{
 "cells": [
  {
   "cell_type": "code",
   "execution_count": 1,
   "metadata": {},
   "outputs": [],
   "source": [
    "from nltk.parse import stanford\n",
    "\n",
    "def get_pos_tags(sentences):\n",
    "    # Set the path to the Stanford Parser files\n",
    "    stanford_parser_dir = '/Users/willsussman/Desktop/hlc/stanford-parser-full-2020-11-17'\n",
    "\n",
    "    # Create a StanfordParser object\n",
    "    stanford_parser = stanford.StanfordParser(\n",
    "        path_to_jar=stanford_parser_dir + '/stanford-parser.jar',\n",
    "        path_to_models_jar=stanford_parser_dir + '/stanford-parser-4.2.0-models.jar',\n",
    "        verbose=True\n",
    "    )\n",
    "\n",
    "    # dict = {}\n",
    "    arr = []\n",
    "    for sentence in sentences:\n",
    "        # parsed_sentence = stanford_parser.raw_parse(sentence)\n",
    "        parsed_sentence = list(stanford_parser.parse(sentence))\n",
    "        assert(len(parsed_sentence) == 1)\n",
    "        for parse_tree in parsed_sentence:\n",
    "            tups = parse_tree.pos()\n",
    "            arr.append(tups)\n",
    "            # dict[sentence] = [tup[1] for tup in tups]\n",
    "\n",
    "    # return dict\n",
    "    return arr"
   ]
  },
  {
   "cell_type": "code",
   "execution_count": 7,
   "metadata": {},
   "outputs": [
    {
     "name": "stderr",
     "output_type": "stream",
     "text": [
      "/var/folders/1k/m1sqlbc165scrlt8jf9nymnw0000gn/T/ipykernel_78635/2309861623.py:8: DeprecationWarning: The StanfordParser will be deprecated\n",
      "Please use \u001b[91mnltk.parse.corenlp.CoreNLPParser\u001b[0m instead.\n",
      "  stanford_parser = stanford.StanfordParser(\n"
     ]
    },
    {
     "data": {
      "text/plain": [
       "[[('Adam', 'NNP'),\n",
       "  ('and', 'CC'),\n",
       "  ('Jill', 'NNP'),\n",
       "  ('man', 'NN'),\n",
       "  ('the', 'DT'),\n",
       "  ('boat', 'NN'),\n",
       "  ('.', '.')],\n",
       " [('The', 'DT'),\n",
       "  ('man', 'NN'),\n",
       "  ('laughing', 'VBG'),\n",
       "  ('sails', 'NNS'),\n",
       "  ('oceans', 'NNS'),\n",
       "  ('.', '.')],\n",
       " [('I', 'PRP'),\n",
       "  ('convinced', 'VBD'),\n",
       "  ('her', 'PRP$'),\n",
       "  ('pineapple', 'NN'),\n",
       "  ('on', 'IN'),\n",
       "  ('pizza', 'NN'),\n",
       "  ('is', 'VBZ'),\n",
       "  ('delicious', 'JJ'),\n",
       "  ('.', '.')],\n",
       " [('Without', 'IN'),\n",
       "  ('her', 'PRP'),\n",
       "  ('the', 'DT'),\n",
       "  ('project', 'NN'),\n",
       "  ('would', 'MD'),\n",
       "  ('fail.', 'VB')],\n",
       " [('Protein', 'NN'),\n",
       "  ('humans', 'NNS'),\n",
       "  ('eat', 'VBP'),\n",
       "  ('accumulates.', 'NN')]]"
      ]
     },
     "execution_count": 7,
     "metadata": {},
     "output_type": "execute_result"
    }
   ],
   "source": [
    "garden_path_sents = [\n",
    "    'Adam and Jill man the boat .'.split(),\n",
    "    'The man laughing sails oceans .'.split(),\n",
    "    'I convinced her pineapple on pizza is delicious .'.split(),\n",
    "    'Without her the project would fail.'.split(),\n",
    "    'Protein humans eat accumulates.'.split()\n",
    "]\n",
    "\n",
    "get_pos_tags(garden_path_sents)"
   ]
  }
 ],
 "metadata": {
  "kernelspec": {
   "display_name": "Python 3",
   "language": "python",
   "name": "python3"
  },
  "language_info": {
   "codemirror_mode": {
    "name": "ipython",
    "version": 3
   },
   "file_extension": ".py",
   "mimetype": "text/x-python",
   "name": "python",
   "nbconvert_exporter": "python",
   "pygments_lexer": "ipython3",
   "version": "3.10.11"
  },
  "orig_nbformat": 4
 },
 "nbformat": 4,
 "nbformat_minor": 2
}
