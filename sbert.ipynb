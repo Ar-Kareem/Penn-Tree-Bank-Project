{
 "cells": [
  {
   "cell_type": "code",
   "execution_count": 3,
   "metadata": {},
   "outputs": [
    {
     "name": "stdout",
     "output_type": "stream",
     "text": [
      "CondaEnv: conda | ['--port=8371'] | ['/storage/arkareem/libraries/conda/bin/python', '/storage/arkareem/libraries/conda/bin/jupyter-notebook', '--no-browser', '--port=8371']\n",
      "Currently running servers:\n",
      "http://localhost:8371/?token=03585691df2685c7953fa167673554e1617b9c459d0f8c17 :: /storage/arkareem/projects\n",
      "\u001b[1;39m[\n",
      "  \u001b[1;39m{\n",
      "    \u001b[0m\u001b[34;1m\"id\"\u001b[0m\u001b[1;39m: \u001b[0m\u001b[0;32m\"3307314d-3826-4782-9a2e-1e4f58d3f9e3\"\u001b[0m\u001b[1;39m,\n",
      "    \u001b[0m\u001b[34;1m\"path\"\u001b[0m\u001b[1;39m: \u001b[0m\u001b[0;32m\"explore_data-jvsc-1383a0b1-7b3c-42aa-87b9-41c9d55d9aa367e74300-6f56-400c-aaab-1c1e5d36fcd2.ipynb\"\u001b[0m\u001b[1;39m,\n",
      "    \u001b[0m\u001b[34;1m\"name\"\u001b[0m\u001b[1;39m: \u001b[0m\u001b[0;32m\"8da6a853-9f21-4b80-a972-45ceb8e5e28d\"\u001b[0m\u001b[1;39m,\n",
      "    \u001b[0m\u001b[34;1m\"type\"\u001b[0m\u001b[1;39m: \u001b[0m\u001b[0;32m\"notebook\"\u001b[0m\u001b[1;39m,\n",
      "    \u001b[0m\u001b[34;1m\"kernel\"\u001b[0m\u001b[1;39m: \u001b[0m\u001b[1;39m{\n",
      "      \u001b[0m\u001b[34;1m\"id\"\u001b[0m\u001b[1;39m: \u001b[0m\u001b[0;32m\"0a4630be-3d26-4586-88af-cf2beb957f31\"\u001b[0m\u001b[1;39m,\n",
      "      \u001b[0m\u001b[34;1m\"name\"\u001b[0m\u001b[1;39m: \u001b[0m\u001b[0;32m\"python3\"\u001b[0m\u001b[1;39m,\n",
      "      \u001b[0m\u001b[34;1m\"last_activity\"\u001b[0m\u001b[1;39m: \u001b[0m\u001b[0;32m\"2023-04-29T06:07:16.545914Z\"\u001b[0m\u001b[1;39m,\n",
      "      \u001b[0m\u001b[34;1m\"execution_state\"\u001b[0m\u001b[1;39m: \u001b[0m\u001b[0;32m\"idle\"\u001b[0m\u001b[1;39m,\n",
      "      \u001b[0m\u001b[34;1m\"connections\"\u001b[0m\u001b[1;39m: \u001b[0m\u001b[0;39m1\u001b[0m\u001b[1;39m\n",
      "    \u001b[1;39m}\u001b[0m\u001b[1;39m,\n",
      "    \u001b[0m\u001b[34;1m\"notebook\"\u001b[0m\u001b[1;39m: \u001b[0m\u001b[1;39m{\n",
      "      \u001b[0m\u001b[34;1m\"path\"\u001b[0m\u001b[1;39m: \u001b[0m\u001b[0;32m\"explore_data-jvsc-1383a0b1-7b3c-42aa-87b9-41c9d55d9aa367e74300-6f56-400c-aaab-1c1e5d36fcd2.ipynb\"\u001b[0m\u001b[1;39m,\n",
      "      \u001b[0m\u001b[34;1m\"name\"\u001b[0m\u001b[1;39m: \u001b[0m\u001b[0;32m\"8da6a853-9f21-4b80-a972-45ceb8e5e28d\"\u001b[0m\u001b[1;39m\n",
      "    \u001b[1;39m}\u001b[0m\u001b[1;39m\n",
      "  \u001b[1;39m}\u001b[0m\u001b[1;39m,\n",
      "  \u001b[1;39m{\n",
      "    \u001b[0m\u001b[34;1m\"id\"\u001b[0m\u001b[1;39m: \u001b[0m\u001b[0;32m\"d2dacbd5-2299-499c-a0d7-c8ecd174abe4\"\u001b[0m\u001b[1;39m,\n",
      "    \u001b[0m\u001b[34;1m\"path\"\u001b[0m\u001b[1;39m: \u001b[0m\u001b[0;32m\"test_vqa-jvsc-ba70ec20-5690-4f30-9ad6-8d058adfaebbed95a2f9-a34a-4765-81cc-fbaf75ffee83.ipynb\"\u001b[0m\u001b[1;39m,\n",
      "    \u001b[0m\u001b[34;1m\"name\"\u001b[0m\u001b[1;39m: \u001b[0m\u001b[0;32m\"aecd9889-c7b6-491b-b2d3-55fcd045d0e4\"\u001b[0m\u001b[1;39m,\n",
      "    \u001b[0m\u001b[34;1m\"type\"\u001b[0m\u001b[1;39m: \u001b[0m\u001b[0;32m\"notebook\"\u001b[0m\u001b[1;39m,\n",
      "    \u001b[0m\u001b[34;1m\"kernel\"\u001b[0m\u001b[1;39m: \u001b[0m\u001b[1;39m{\n",
      "      \u001b[0m\u001b[34;1m\"id\"\u001b[0m\u001b[1;39m: \u001b[0m\u001b[0;32m\"64cd8bee-f84b-48fb-9fde-68b91be783dd\"\u001b[0m\u001b[1;39m,\n",
      "      \u001b[0m\u001b[34;1m\"name\"\u001b[0m\u001b[1;39m: \u001b[0m\u001b[0;32m\"python3\"\u001b[0m\u001b[1;39m,\n",
      "      \u001b[0m\u001b[34;1m\"last_activity\"\u001b[0m\u001b[1;39m: \u001b[0m\u001b[0;32m\"2023-05-01T00:19:34.251545Z\"\u001b[0m\u001b[1;39m,\n",
      "      \u001b[0m\u001b[34;1m\"execution_state\"\u001b[0m\u001b[1;39m: \u001b[0m\u001b[0;32m\"busy\"\u001b[0m\u001b[1;39m,\n",
      "      \u001b[0m\u001b[34;1m\"connections\"\u001b[0m\u001b[1;39m: \u001b[0m\u001b[0;39m1\u001b[0m\u001b[1;39m\n",
      "    \u001b[1;39m}\u001b[0m\u001b[1;39m,\n",
      "    \u001b[0m\u001b[34;1m\"notebook\"\u001b[0m\u001b[1;39m: \u001b[0m\u001b[1;39m{\n",
      "      \u001b[0m\u001b[34;1m\"path\"\u001b[0m\u001b[1;39m: \u001b[0m\u001b[0;32m\"test_vqa-jvsc-ba70ec20-5690-4f30-9ad6-8d058adfaebbed95a2f9-a34a-4765-81cc-fbaf75ffee83.ipynb\"\u001b[0m\u001b[1;39m,\n",
      "      \u001b[0m\u001b[34;1m\"name\"\u001b[0m\u001b[1;39m: \u001b[0m\u001b[0;32m\"aecd9889-c7b6-491b-b2d3-55fcd045d0e4\"\u001b[0m\u001b[1;39m\n",
      "    \u001b[1;39m}\u001b[0m\u001b[1;39m\n",
      "  \u001b[1;39m}\u001b[0m\u001b[1;39m,\n",
      "  \u001b[1;39m{\n",
      "    \u001b[0m\u001b[34;1m\"id\"\u001b[0m\u001b[1;39m: \u001b[0m\u001b[0;32m\"3e3457b8-82c7-4e87-9295-35bba38f5f76\"\u001b[0m\u001b[1;39m,\n",
      "    \u001b[0m\u001b[34;1m\"path\"\u001b[0m\u001b[1;39m: \u001b[0m\u001b[0;32m\"clip_embed-jvsc-cb09b97a-6e9c-422e-acd0-d4e49f57afbcd61b68cd-dd32-4456-9a2e-5af6abbb87ef.ipynb\"\u001b[0m\u001b[1;39m,\n",
      "    \u001b[0m\u001b[34;1m\"name\"\u001b[0m\u001b[1;39m: \u001b[0m\u001b[0;32m\"cecd2e55-0c00-45f1-a2c8-7cf5c11f92a5\"\u001b[0m\u001b[1;39m,\n",
      "    \u001b[0m\u001b[34;1m\"type\"\u001b[0m\u001b[1;39m: \u001b[0m\u001b[0;32m\"notebook\"\u001b[0m\u001b[1;39m,\n",
      "    \u001b[0m\u001b[34;1m\"kernel\"\u001b[0m\u001b[1;39m: \u001b[0m\u001b[1;39m{\n",
      "      \u001b[0m\u001b[34;1m\"id\"\u001b[0m\u001b[1;39m: \u001b[0m\u001b[0;32m\"8dc6ec9e-a20a-4775-bacc-ffc7cc75db73\"\u001b[0m\u001b[1;39m,\n",
      "      \u001b[0m\u001b[34;1m\"name\"\u001b[0m\u001b[1;39m: \u001b[0m\u001b[0;32m\"python3\"\u001b[0m\u001b[1;39m,\n",
      "      \u001b[0m\u001b[34;1m\"last_activity\"\u001b[0m\u001b[1;39m: \u001b[0m\u001b[0;32m\"2023-05-01T00:17:37.098466Z\"\u001b[0m\u001b[1;39m,\n",
      "      \u001b[0m\u001b[34;1m\"execution_state\"\u001b[0m\u001b[1;39m: \u001b[0m\u001b[0;32m\"idle\"\u001b[0m\u001b[1;39m,\n",
      "      \u001b[0m\u001b[34;1m\"connections\"\u001b[0m\u001b[1;39m: \u001b[0m\u001b[0;39m1\u001b[0m\u001b[1;39m\n",
      "    \u001b[1;39m}\u001b[0m\u001b[1;39m,\n",
      "    \u001b[0m\u001b[34;1m\"notebook\"\u001b[0m\u001b[1;39m: \u001b[0m\u001b[1;39m{\n",
      "      \u001b[0m\u001b[34;1m\"path\"\u001b[0m\u001b[1;39m: \u001b[0m\u001b[0;32m\"clip_embed-jvsc-cb09b97a-6e9c-422e-acd0-d4e49f57afbcd61b68cd-dd32-4456-9a2e-5af6abbb87ef.ipynb\"\u001b[0m\u001b[1;39m,\n",
      "      \u001b[0m\u001b[34;1m\"name\"\u001b[0m\u001b[1;39m: \u001b[0m\u001b[0;32m\"cecd2e55-0c00-45f1-a2c8-7cf5c11f92a5\"\u001b[0m\u001b[1;39m\n",
      "    \u001b[1;39m}\u001b[0m\u001b[1;39m\n",
      "  \u001b[1;39m}\u001b[0m\u001b[1;39m,\n",
      "  \u001b[1;39m{\n",
      "    \u001b[0m\u001b[34;1m\"id\"\u001b[0m\u001b[1;39m: \u001b[0m\u001b[0;32m\"f52f2c62-a84e-43e7-becb-c2067f65f335\"\u001b[0m\u001b[1;39m,\n",
      "    \u001b[0m\u001b[34;1m\"path\"\u001b[0m\u001b[1;39m: \u001b[0m\u001b[0;32m\"sbert-jvsc-c28a2f39-f048-4527-ac64-0106634860fb2af7d01d-8211-4d4c-b127-2717e12cceb3.ipynb\"\u001b[0m\u001b[1;39m,\n",
      "    \u001b[0m\u001b[34;1m\"name\"\u001b[0m\u001b[1;39m: \u001b[0m\u001b[0;32m\"11f167cf-888f-4308-beb7-ead360ad0df1\"\u001b[0m\u001b[1;39m,\n",
      "    \u001b[0m\u001b[34;1m\"type\"\u001b[0m\u001b[1;39m: \u001b[0m\u001b[0;32m\"notebook\"\u001b[0m\u001b[1;39m,\n",
      "    \u001b[0m\u001b[34;1m\"kernel\"\u001b[0m\u001b[1;39m: \u001b[0m\u001b[1;39m{\n",
      "      \u001b[0m\u001b[34;1m\"id\"\u001b[0m\u001b[1;39m: \u001b[0m\u001b[0;32m\"d5ff2db7-7b2b-44cb-8910-7d1e0e3b2ebf\"\u001b[0m\u001b[1;39m,\n",
      "      \u001b[0m\u001b[34;1m\"name\"\u001b[0m\u001b[1;39m: \u001b[0m\u001b[0;32m\"python3\"\u001b[0m\u001b[1;39m,\n",
      "      \u001b[0m\u001b[34;1m\"last_activity\"\u001b[0m\u001b[1;39m: \u001b[0m\u001b[0;32m\"2023-05-01T00:19:33.503816Z\"\u001b[0m\u001b[1;39m,\n",
      "      \u001b[0m\u001b[34;1m\"execution_state\"\u001b[0m\u001b[1;39m: \u001b[0m\u001b[0;32m\"busy\"\u001b[0m\u001b[1;39m,\n",
      "      \u001b[0m\u001b[34;1m\"connections\"\u001b[0m\u001b[1;39m: \u001b[0m\u001b[0;39m1\u001b[0m\u001b[1;39m\n",
      "    \u001b[1;39m}\u001b[0m\u001b[1;39m,\n",
      "    \u001b[0m\u001b[34;1m\"notebook\"\u001b[0m\u001b[1;39m: \u001b[0m\u001b[1;39m{\n",
      "      \u001b[0m\u001b[34;1m\"path\"\u001b[0m\u001b[1;39m: \u001b[0m\u001b[0;32m\"sbert-jvsc-c28a2f39-f048-4527-ac64-0106634860fb2af7d01d-8211-4d4c-b127-2717e12cceb3.ipynb\"\u001b[0m\u001b[1;39m,\n",
      "      \u001b[0m\u001b[34;1m\"name\"\u001b[0m\u001b[1;39m: \u001b[0m\u001b[0;32m\"11f167cf-888f-4308-beb7-ead360ad0df1\"\u001b[0m\u001b[1;39m\n",
      "    \u001b[1;39m}\u001b[0m\u001b[1;39m\n",
      "  \u001b[1;39m}\u001b[0m\u001b[1;39m\n",
      "\u001b[1;39m]\u001b[0m\n"
     ]
    }
   ],
   "source": [
    "import pathlib; import psutil; _tmp = psutil.Process().parent().cmdline()\n",
    "print('CondaEnv:', pathlib.Path(_tmp[0]).parent.parent.stem, '|', [_tmp2 for _tmp2 in _tmp if '--port' in _tmp2], '|', _tmp)\n",
    "!jupyter notebook list\n",
    "!curl -sSLG localhost:8371/api/sessions --data-urlencode `jupyter notebook list | grep ':8371' | awk '/token/ {split($1,a,\"?\")} END {print a[2]}'`  | jq\n"
   ]
  },
  {
   "cell_type": "code",
   "execution_count": 1,
   "metadata": {},
   "outputs": [
    {
     "data": {
      "text/plain": [
       "(ShardingFilterIterDataPipe,\n",
       " ShardingFilterIterDataPipe,\n",
       " ShardingFilterIterDataPipe)"
      ]
     },
     "execution_count": 1,
     "metadata": {},
     "output_type": "execute_result"
    }
   ],
   "source": [
    "import torchtext\n",
    "torchtext.datasets.PennTreebank()"
   ]
  },
  {
   "cell_type": "code",
   "execution_count": null,
   "metadata": {},
   "outputs": [],
   "source": [
    "import torch\n",
    "from torchtext.datasets import PennTreebank\n",
    "from torchtext.data.utils import get_tokenizer\n",
    "from torchtext.vocab import build_vocab_from_iterator\n",
    "\n",
    "# Define a tokenizer\n",
    "tokenizer = get_tokenizer('basic_english')\n",
    "\n",
    "# Load the Penn Treebank dataset\n",
    "train_dataset, valid_dataset, test_dataset = PennTreebank()\n",
    "\n",
    "# Build the vocabulary from the training dataset\n",
    "train_vocab = build_vocab_from_iterator(map(tokenizer, train_dataset), specials=[\"<unk>\", \"<pad>\"])\n",
    "\n",
    "# Define a function to numericalize the tokens\n",
    "def numericalize_tokens(tokens):\n",
    "    return [train_vocab.stoi[token] for token in tokens]\n",
    "\n",
    "# Define a function to preprocess a sentence\n",
    "def preprocess_sentence(sentence):\n",
    "    return numericalize_tokens(tokenizer(sentence))\n",
    "\n",
    "# Example usage:\n",
    "sentence = \"This is an example sentence.\"\n",
    "numericalized = preprocess_sentence(sentence)\n",
    "tensor = torch.tensor(numericalized)\n",
    "print(tensor)\n"
   ]
  },
  {
   "cell_type": "code",
   "execution_count": 6,
   "metadata": {},
   "outputs": [
    {
     "name": "stdout",
     "output_type": "stream",
     "text": [
      "42068\n",
      "3370\n",
      "3761\n"
     ]
    }
   ],
   "source": [
    "import torchtext\n",
    "from torchtext.datasets import PennTreebank\n",
    "\n",
    "# Load the PennTreebank dataset\n",
    "train_data = PennTreebank(split='train')\n",
    "valid_data = PennTreebank(split='valid')\n",
    "test_data = PennTreebank(split='test')\n",
    "\n",
    "# Print some examples\n",
    "print(len(list(train_data)))\n",
    "print(len(list(valid_data)))\n",
    "print(len(list(test_data)))\n"
   ]
  },
  {
   "cell_type": "code",
   "execution_count": 5,
   "metadata": {},
   "outputs": [
    {
     "name": "stderr",
     "output_type": "stream",
     "text": [
      "/storage/arkareem/libraries/conda/lib/python3.9/site-packages/torch/utils/data/datapipes/iter/combining.py:297: UserWarning: Some child DataPipes are not exhausted when __iter__ is called. We are resetting the buffer and each child DataPipe will read from the start again.\n",
      "  warnings.warn(\"Some child DataPipes are not exhausted when __iter__ is called. We are resetting \"\n"
     ]
    },
    {
     "data": {
      "text/plain": [
       "42068"
      ]
     },
     "execution_count": 5,
     "metadata": {},
     "output_type": "execute_result"
    }
   ],
   "source": []
  }
 ],
 "metadata": {
  "kernelspec": {
   "display_name": "Python 3 (ipykernel)",
   "language": "python",
   "name": "python3"
  },
  "language_info": {
   "codemirror_mode": {
    "name": "ipython",
    "version": 3
   },
   "file_extension": ".py",
   "mimetype": "text/x-python",
   "name": "python",
   "nbconvert_exporter": "python",
   "pygments_lexer": "ipython3",
   "version": "3.9.12"
  },
  "orig_nbformat": 4
 },
 "nbformat": 4,
 "nbformat_minor": 2
}
