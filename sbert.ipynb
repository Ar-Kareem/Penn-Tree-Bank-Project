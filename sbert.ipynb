{
 "cells": [
  {
   "cell_type": "code",
   "execution_count": 1,
   "metadata": {},
   "outputs": [],
   "source": [
    "%load_ext autoreload\n",
    "%autoreload 2"
   ]
  },
  {
   "cell_type": "code",
   "execution_count": null,
   "metadata": {},
   "outputs": [],
   "source": [
    "!pip install -r requirements.txt"
   ]
  },
  {
   "cell_type": "code",
   "execution_count": null,
   "metadata": {},
   "outputs": [],
   "source": [
    "!python -m spacy download en_core_web_sm"
   ]
  },
  {
   "cell_type": "code",
   "execution_count": 1,
   "metadata": {},
   "outputs": [
    {
     "name": "stdout",
     "output_type": "stream",
     "text": [
      "CondaEnv: class_pymc | ['--port=8371'] | ['/storage/arkareem/libraries/conda/envs/class_pymc/bin/python', '/storage/arkareem/libraries/conda/envs/class_pymc/bin/jupyter-notebook', '--no-browser', '--host=0.0.0.0', '--port=8371']\n",
      "Currently running servers:\n",
      "http://localhost:8372/?token=c4942c1ebb1004539d2c114c7b72bb90a0647b90b9899c3c :: /storage/arkareem/projects/classes/Penn-Tree-Bank-Project\n",
      "http://localhost:8371/?token=68fd8ffb03c2569e287c6ab4d76b9372e7e57af8821bf470 :: /storage/arkareem/projects\n",
      "\u001b[1;39m[\n",
      "  \u001b[1;39m{\n",
      "    \u001b[0m\u001b[34;1m\"id\"\u001b[0m\u001b[1;39m: \u001b[0m\u001b[0;32m\"0359e3f5-955d-450b-9902-5ae7e8a37ae7\"\u001b[0m\u001b[1;39m,\n",
      "    \u001b[0m\u001b[34;1m\"path\"\u001b[0m\u001b[1;39m: \u001b[0m\u001b[0;32m\"sbert-jvsc-e9a4c7ce-dbce-4a11-9a05-16c1287a4f91977cbd28-64f8-490e-9f9a-c0127e37a42e.ipynb\"\u001b[0m\u001b[1;39m,\n",
      "    \u001b[0m\u001b[34;1m\"name\"\u001b[0m\u001b[1;39m: \u001b[0m\u001b[0;32m\"c8485be7-e70a-430f-83dd-b99635624375\"\u001b[0m\u001b[1;39m,\n",
      "    \u001b[0m\u001b[34;1m\"type\"\u001b[0m\u001b[1;39m: \u001b[0m\u001b[0;32m\"notebook\"\u001b[0m\u001b[1;39m,\n",
      "    \u001b[0m\u001b[34;1m\"kernel\"\u001b[0m\u001b[1;39m: \u001b[0m\u001b[1;39m{\n",
      "      \u001b[0m\u001b[34;1m\"id\"\u001b[0m\u001b[1;39m: \u001b[0m\u001b[0;32m\"0027b746-184c-4f2b-b11a-48d854342a5d\"\u001b[0m\u001b[1;39m,\n",
      "      \u001b[0m\u001b[34;1m\"name\"\u001b[0m\u001b[1;39m: \u001b[0m\u001b[0;32m\"python3\"\u001b[0m\u001b[1;39m,\n",
      "      \u001b[0m\u001b[34;1m\"last_activity\"\u001b[0m\u001b[1;39m: \u001b[0m\u001b[0;32m\"2023-05-17T19:37:19.651842Z\"\u001b[0m\u001b[1;39m,\n",
      "      \u001b[0m\u001b[34;1m\"execution_state\"\u001b[0m\u001b[1;39m: \u001b[0m\u001b[0;32m\"busy\"\u001b[0m\u001b[1;39m,\n",
      "      \u001b[0m\u001b[34;1m\"connections\"\u001b[0m\u001b[1;39m: \u001b[0m\u001b[0;39m1\u001b[0m\u001b[1;39m\n",
      "    \u001b[1;39m}\u001b[0m\u001b[1;39m,\n",
      "    \u001b[0m\u001b[34;1m\"notebook\"\u001b[0m\u001b[1;39m: \u001b[0m\u001b[1;39m{\n",
      "      \u001b[0m\u001b[34;1m\"path\"\u001b[0m\u001b[1;39m: \u001b[0m\u001b[0;32m\"sbert-jvsc-e9a4c7ce-dbce-4a11-9a05-16c1287a4f91977cbd28-64f8-490e-9f9a-c0127e37a42e.ipynb\"\u001b[0m\u001b[1;39m,\n",
      "      \u001b[0m\u001b[34;1m\"name\"\u001b[0m\u001b[1;39m: \u001b[0m\u001b[0;32m\"c8485be7-e70a-430f-83dd-b99635624375\"\u001b[0m\u001b[1;39m\n",
      "    \u001b[1;39m}\u001b[0m\u001b[1;39m\n",
      "  \u001b[1;39m}\u001b[0m\u001b[1;39m,\n",
      "  \u001b[1;39m{\n",
      "    \u001b[0m\u001b[34;1m\"id\"\u001b[0m\u001b[1;39m: \u001b[0m\u001b[0;32m\"a6cc7f53-779e-4e54-b794-cf2138e962f4\"\u001b[0m\u001b[1;39m,\n",
      "    \u001b[0m\u001b[34;1m\"path\"\u001b[0m\u001b[1;39m: \u001b[0m\u001b[0;32m\"wills-code-jvsc-9d10471a-87dc-4bef-9f17-06b85b29397de5150019-ff57-40bc-9137-933a51ce710e.ipynb\"\u001b[0m\u001b[1;39m,\n",
      "    \u001b[0m\u001b[34;1m\"name\"\u001b[0m\u001b[1;39m: \u001b[0m\u001b[0;32m\"0225d278-9a40-417a-9755-ef202faf9773\"\u001b[0m\u001b[1;39m,\n",
      "    \u001b[0m\u001b[34;1m\"type\"\u001b[0m\u001b[1;39m: \u001b[0m\u001b[0;32m\"notebook\"\u001b[0m\u001b[1;39m,\n",
      "    \u001b[0m\u001b[34;1m\"kernel\"\u001b[0m\u001b[1;39m: \u001b[0m\u001b[1;39m{\n",
      "      \u001b[0m\u001b[34;1m\"id\"\u001b[0m\u001b[1;39m: \u001b[0m\u001b[0;32m\"3113276d-6350-46b1-8d21-9ee7b68e0da6\"\u001b[0m\u001b[1;39m,\n",
      "      \u001b[0m\u001b[34;1m\"name\"\u001b[0m\u001b[1;39m: \u001b[0m\u001b[0;32m\"python3\"\u001b[0m\u001b[1;39m,\n",
      "      \u001b[0m\u001b[34;1m\"last_activity\"\u001b[0m\u001b[1;39m: \u001b[0m\u001b[0;32m\"2023-05-17T05:56:04.322378Z\"\u001b[0m\u001b[1;39m,\n",
      "      \u001b[0m\u001b[34;1m\"execution_state\"\u001b[0m\u001b[1;39m: \u001b[0m\u001b[0;32m\"idle\"\u001b[0m\u001b[1;39m,\n",
      "      \u001b[0m\u001b[34;1m\"connections\"\u001b[0m\u001b[1;39m: \u001b[0m\u001b[0;39m1\u001b[0m\u001b[1;39m\n",
      "    \u001b[1;39m}\u001b[0m\u001b[1;39m,\n",
      "    \u001b[0m\u001b[34;1m\"notebook\"\u001b[0m\u001b[1;39m: \u001b[0m\u001b[1;39m{\n",
      "      \u001b[0m\u001b[34;1m\"path\"\u001b[0m\u001b[1;39m: \u001b[0m\u001b[0;32m\"wills-code-jvsc-9d10471a-87dc-4bef-9f17-06b85b29397de5150019-ff57-40bc-9137-933a51ce710e.ipynb\"\u001b[0m\u001b[1;39m,\n",
      "      \u001b[0m\u001b[34;1m\"name\"\u001b[0m\u001b[1;39m: \u001b[0m\u001b[0;32m\"0225d278-9a40-417a-9755-ef202faf9773\"\u001b[0m\u001b[1;39m\n",
      "    \u001b[1;39m}\u001b[0m\u001b[1;39m\n",
      "  \u001b[1;39m}\u001b[0m\u001b[1;39m\n",
      "\u001b[1;39m]\u001b[0m\n"
     ]
    }
   ],
   "source": [
    "import pathlib; import psutil; _tmp = psutil.Process().parent().cmdline()\n",
    "print('CondaEnv:', pathlib.Path(_tmp[0]).parent.parent.stem, '|', [_tmp2 for _tmp2 in _tmp if '--port' in _tmp2], '|', _tmp)\n",
    "!jupyter notebook list\n",
    "!curl -sSLG localhost:8372/api/sessions --data-urlencode `jupyter notebook list | grep ':8372' | awk '/token/ {split($1,a,\"?\")} END {print a[2]}'`  | jq\n"
   ]
  },
  {
   "cell_type": "code",
   "execution_count": 2,
   "metadata": {},
   "outputs": [],
   "source": [
    "import dataset\n"
   ]
  },
  {
   "attachments": {},
   "cell_type": "markdown",
   "metadata": {},
   "source": [
    "# torchtext"
   ]
  },
  {
   "cell_type": "code",
   "execution_count": 6,
   "metadata": {},
   "outputs": [
    {
     "data": {
      "text/plain": [
       "(ShardingFilterIterDataPipe,\n",
       " ShardingFilterIterDataPipe,\n",
       " ShardingFilterIterDataPipe)"
      ]
     },
     "execution_count": 6,
     "metadata": {},
     "output_type": "execute_result"
    }
   ],
   "source": [
    "import torchtext\n",
    "torchtext.datasets.PennTreebank()"
   ]
  },
  {
   "cell_type": "code",
   "execution_count": null,
   "metadata": {},
   "outputs": [],
   "source": [
    "import torch\n",
    "from torchtext.datasets import PennTreebank\n",
    "from torchtext.data.utils import get_tokenizer\n",
    "from torchtext.vocab import build_vocab_from_iterator\n",
    "\n",
    "# Define a tokenizer\n",
    "tokenizer = get_tokenizer('basic_english')\n",
    "\n",
    "# Load the Penn Treebank dataset\n",
    "train_dataset, valid_dataset, test_dataset = PennTreebank()\n",
    "\n",
    "# Build the vocabulary from the training dataset\n",
    "train_vocab = build_vocab_from_iterator(map(tokenizer, train_dataset), specials=[\"<unk>\", \"<pad>\"])\n",
    "\n",
    "# Define a function to numericalize the tokens\n",
    "def numericalize_tokens(tokens):\n",
    "    return [train_vocab.stoi[token] for token in tokens]\n",
    "\n",
    "# Define a function to preprocess a sentence\n",
    "def preprocess_sentence(sentence):\n",
    "    return numericalize_tokens(tokenizer(sentence))\n",
    "\n",
    "# Example usage:\n",
    "sentence = \"This is an example sentence.\"\n",
    "numericalized = preprocess_sentence(sentence)\n",
    "tensor = torch.tensor(numericalized)\n",
    "print(tensor)\n"
   ]
  },
  {
   "cell_type": "code",
   "execution_count": 93,
   "metadata": {},
   "outputs": [
    {
     "name": "stdout",
     "output_type": "stream",
     "text": [
      "42068\n",
      "3370\n",
      "3761\n"
     ]
    }
   ],
   "source": [
    "import torchtext\n",
    "from torchtext.datasets import PennTreebank\n",
    "\n",
    "# Load the PennTreebank dataset\n",
    "train_data = PennTreebank(split='train')\n",
    "valid_data = PennTreebank(split='valid')\n",
    "test_data = PennTreebank(split='test')\n",
    "\n",
    "# Print some examples\n",
    "print(len(list(train_data)))\n",
    "print(len(list(valid_data)))\n",
    "print(len(list(test_data)))\n"
   ]
  },
  {
   "cell_type": "code",
   "execution_count": 95,
   "metadata": {},
   "outputs": [
    {
     "name": "stdout",
     "output_type": "stream",
     "text": [
      "sum train 887521\n",
      "sum valid 70390\n",
      "sum test 78669\n"
     ]
    },
    {
     "data": {
      "text/plain": [
       "1036580"
      ]
     },
     "execution_count": 95,
     "metadata": {},
     "output_type": "execute_result"
    }
   ],
   "source": [
    "print('sum train', sum([len(sentence.split(' ')) for sentence in train_data]))\n",
    "print('sum valid', sum([len(sentence.split(' ')) for sentence in valid_data]))\n",
    "print('sum test', sum([len(sentence.split(' ')) for sentence in test_data]))\n",
    "887521+70390+78669"
   ]
  },
  {
   "cell_type": "code",
   "execution_count": null,
   "metadata": {},
   "outputs": [],
   "source": [
    "import spacy\n",
    "from tqdm import tqdm\n",
    "\n",
    "# Load spaCy model\n",
    "nlp = spacy.load(\"en_core_web_sm\")\n",
    "\n",
    "# Tag sentences with spaCy\n",
    "for sentence in tqdm(list(train_data)):\n",
    "  doc = nlp(sentence)\n",
    "  words = [token.text for token in doc]\n",
    "  tags = [token.pos_ for token in doc]\n",
    "#   print(words, tags)\n"
   ]
  },
  {
   "cell_type": "code",
   "execution_count": 31,
   "metadata": {},
   "outputs": [
    {
     "name": "stdout",
     "output_type": "stream",
     "text": [
      "aer banknote berlitz calloway centrust cluett fromstein gitano guterman hydro-quebec ipo kia memotec mlx nahb punts rake regatta rubens sim snack-food ssangyong swapo wachter\n",
      "pierre <unk> N years old will join the board as a nonexecutive director nov. N\n",
      "mr. <unk> is chairman of <unk> n.v. the dutch publishing group\n",
      "rudolph <unk> N years old and former chairman of consolidated gold fields plc was named a nonexecutive director of this british industrial conglomerate\n",
      "a form of asbestos once used to make kent cigarette filters has caused a high percentage of cancer deaths among a group of workers exposed to it more than N years ago researchers reported\n",
      "the asbestos fiber <unk> is unusually <unk> once it enters the <unk> with even brief exposures to it causing symptoms that show up decades later researchers said\n",
      "<unk> inc. the unit of new york-based <unk> corp. that makes kent cigarettes stopped using <unk> in its <unk> cigarette filters in N\n",
      "although preliminary findings were reported more than a year ago the latest results appear in today 's new england journal of medicine a forum likely to bring new attention to the problem\n",
      "a <unk> <unk> said this is an old story\n",
      "we 're talking about years ago before anyone heard of asbestos having any questionable properties\n",
      "there is no asbestos in our products now\n"
     ]
    },
    {
     "name": "stderr",
     "output_type": "stream",
     "text": [
      "/storage/arkareem/libraries/conda/lib/python3.9/site-packages/torch/utils/data/datapipes/iter/combining.py:297: UserWarning: Some child DataPipes are not exhausted when __iter__ is called. We are resetting the buffer and each child DataPipe will read from the start again.\n",
      "  warnings.warn(\"Some child DataPipes are not exhausted when __iter__ is called. We are resetting \"\n"
     ]
    }
   ],
   "source": [
    "for i, n in enumerate(train_data):\n",
    "    print(n)\n",
    "    if i == 10: break"
   ]
  },
  {
   "cell_type": "code",
   "execution_count": null,
   "metadata": {},
   "outputs": [],
   "source": []
  },
  {
   "attachments": {},
   "cell_type": "markdown",
   "metadata": {},
   "source": [
    "# ibm data"
   ]
  },
  {
   "cell_type": "code",
   "execution_count": null,
   "metadata": {},
   "outputs": [],
   "source": []
  },
  {
   "cell_type": "code",
   "execution_count": 56,
   "metadata": {},
   "outputs": [],
   "source": [
    "!mkdir .data\n",
    "!wget -q -O .data/ptb.zip https://ibm.box.com/shared/static/z2yvmhbskc45xd2a9a4kkn6hg4g4kj5r.zip\n",
    "!unzip -o .data/ptb.zip -d .data\n",
    "!cp .data/ptb/reader.py .\n"
   ]
  },
  {
   "cell_type": "code",
   "execution_count": 66,
   "metadata": {},
   "outputs": [
    {
     "data": {
      "text/plain": [
       "<module 'reader' from '/storage/arkareem/projects/classes/Penn-Tree-Bank-Project/reader.py'>"
      ]
     },
     "execution_count": 66,
     "metadata": {},
     "output_type": "execute_result"
    }
   ],
   "source": [
    "import reader\n",
    "import importlib\n",
    "importlib.reload(reader)"
   ]
  },
  {
   "cell_type": "code",
   "execution_count": null,
   "metadata": {},
   "outputs": [],
   "source": [
    "!wget -O .data/simple-examples.tgz http://www.fit.vutbr.cz/~imikolov/rnnlm/simple-examples.tgz\n",
    "!mkdir .data/simple-examples\n",
    "!tar xzf .data/simple-examples.tgz -C .data/simple-examples\n"
   ]
  },
  {
   "cell_type": "code",
   "execution_count": 96,
   "metadata": {},
   "outputs": [
    {
     "name": "stdout",
     "output_type": "stream",
     "text": [
      "929589\n",
      "73760\n",
      "82430\n"
     ]
    }
   ],
   "source": [
    "data_dir = \".data/simple-examples/simple-examples/data/\"\n",
    "raw_data = reader.ptb_raw_data(data_dir)\n",
    "train_data, valid_data, test_data, vocab, word_to_id = raw_data\n",
    "print(len(train_data))\n",
    "print(len(valid_data))\n",
    "print(len(test_data))"
   ]
  },
  {
   "cell_type": "code",
   "execution_count": 78,
   "metadata": {},
   "outputs": [
    {
     "name": "stdout",
     "output_type": "stream",
     "text": [
      "['aer', 'banknote', 'berlitz', 'calloway', 'centrust', 'cluett', 'fromstein', 'gitano', 'guterman', 'hydro-quebec', 'ipo', 'kia', 'memotec', 'mlx', 'nahb', 'punts', 'rake', 'regatta', 'rubens', 'sim', 'snack-food', 'ssangyong', 'swapo', 'wachter', '<eos>', 'pierre', '<unk>', 'N', 'years', 'old', 'will', 'join', 'the', 'board', 'as', 'a', 'nonexecutive', 'director', 'nov.', 'N', '<eos>', 'mr.', '<unk>', 'is', 'chairman', 'of', '<unk>', 'n.v.', 'the', 'dutch', 'publishing', 'group', '<eos>', 'rudolph', '<unk>', 'N', 'years', 'old', 'and', 'former', 'chairman', 'of', 'consolidated', 'gold', 'fields', 'plc', 'was', 'named', 'a', 'nonexecutive', 'director', 'of', 'this', 'british', 'industrial', 'conglomerate', '<eos>', 'a', 'form', 'of', 'asbestos', 'once', 'used', 'to', 'make', 'kent', 'cigarette', 'filters', 'has', 'caused', 'a', 'high', 'percentage', 'of', 'cancer', 'deaths', 'among', 'a', 'group', 'of']\n"
     ]
    }
   ],
   "source": [
    "def id_to_word(id_list):\n",
    "    line = []\n",
    "    for w in id_list:\n",
    "        for word, wid in word_to_id.items():\n",
    "            if wid == w:\n",
    "                line.append(word)\n",
    "    return line            \n",
    "                \n",
    "\n",
    "print(id_to_word(train_data[0:100]))\n"
   ]
  },
  {
   "cell_type": "code",
   "execution_count": 114,
   "metadata": {},
   "outputs": [
    {
     "data": {
      "text/plain": [
       "(array([[9970, 9971, 9972],\n",
       "        [   5, 2437,   54],\n",
       "        [   6,    1,  232],\n",
       "        [  34,   97, 4647],\n",
       "        [   0,  332, 7147],\n",
       "        [  18,  937, 1238],\n",
       "        [   2,  823,    1],\n",
       "        [   8,    1, 1716],\n",
       "        [   5,    6, 1969],\n",
       "        [  19,  484, 1112],\n",
       "        [5266,    7,  390],\n",
       "        [  53,  101,   26],\n",
       "        [ 554,   16,  850],\n",
       "        [   5,   25,  192],\n",
       "        [   1,    9,  161],\n",
       "        [  29,  466, 2028]], dtype=int32),\n",
       " array([[9971, 9972, 9974],\n",
       "        [2437,   54, 2155],\n",
       "        [   1,  232,   70],\n",
       "        [  97, 4647,   43],\n",
       "        [ 332, 7147,  328],\n",
       "        [ 937, 1238, 1340],\n",
       "        [ 823,    1,  376],\n",
       "        [   1, 1716,    6],\n",
       "        [   6, 1969,    0],\n",
       "        [ 484, 1112, 1666],\n",
       "        [   7,  390,   15],\n",
       "        [ 101,   26, 1378],\n",
       "        [  16,  850,    3],\n",
       "        [  25,  192,   18],\n",
       "        [   9,  161,  293],\n",
       "        [ 466, 2028,    7]], dtype=int32),\n",
       " (16, 3))"
      ]
     },
     "execution_count": 114,
     "metadata": {},
     "output_type": "execute_result"
    }
   ],
   "source": [
    "itera = reader.ptb_iterator(train_data, 16, 3)\n",
    "first_touple = itera.__next__()\n",
    "x = first_touple[0]\n",
    "y = first_touple[1]\n",
    "x, y, x.shape"
   ]
  },
  {
   "attachments": {},
   "cell_type": "markdown",
   "metadata": {},
   "source": [
    "# sbert"
   ]
  },
  {
   "cell_type": "code",
   "execution_count": 162,
   "metadata": {},
   "outputs": [],
   "source": [
    "import numpy as np\n",
    "import torch\n",
    "\n",
    "import sbert"
   ]
  },
  {
   "cell_type": "code",
   "execution_count": 4,
   "metadata": {},
   "outputs": [
    {
     "name": "stdout",
     "output_type": "stream",
     "text": [
      "\u001b[34m\u001b[1mwandb\u001b[0m: Currently logged in as: \u001b[33markareem\u001b[0m. Use \u001b[1m`wandb login --relogin`\u001b[0m to force relogin\n"
     ]
    }
   ],
   "source": [
    "import wandb\n",
    "!wandb login  # copy the key from https://wandb.ai/authorize"
   ]
  },
  {
   "cell_type": "code",
   "execution_count": 243,
   "metadata": {},
   "outputs": [],
   "source": [
    "import dataset\n",
    "\n",
    "data_treebank = dataset.get_treebank_3914()\n",
    "data_biology = dataset.get_biology()\n"
   ]
  },
  {
   "cell_type": "code",
   "execution_count": 257,
   "metadata": {},
   "outputs": [],
   "source": [
    "# mix\n",
    "# data = {\n",
    "#     'train_sentences': data_treebank['train_sentences'] + data_biology['train_sentences'],\n",
    "#     'test_sentences': data_treebank['test_sentences'],\n",
    "#     'train_tags': data_treebank['train_tags'] + data_biology['train_tags'],\n",
    "#     'test_tags': data_treebank['test_tags'],\n",
    "#     'all_pos': sorted(set(data_treebank['all_pos'] + data_biology['all_pos'])),\n",
    "# }\n",
    "# Load the PennTreebank dataset\n",
    "data = data_treebank\n",
    "# data = data_biology\n",
    "\n",
    "# TRAIN on PennTreebank and TEST on Biology\n",
    "# data = data_biology\n",
    "# data['train_sentences'] = data_treebank['train_sentences']\n",
    "# data['train_tags'] = data_treebank['train_tags']\n",
    "# data['all_pos'] = sorted(set(data_treebank['all_pos'] + data_biology['all_pos']))\n"
   ]
  },
  {
   "cell_type": "code",
   "execution_count": 245,
   "metadata": {},
   "outputs": [
    {
     "data": {
      "text/plain": [
       "72588"
      ]
     },
     "execution_count": 245,
     "metadata": {},
     "output_type": "execute_result"
    }
   ],
   "source": [
    "len(data['train_sentences'])"
   ]
  },
  {
   "cell_type": "code",
   "execution_count": 234,
   "metadata": {},
   "outputs": [
    {
     "data": {
      "text/plain": [
       "0"
      ]
     },
     "execution_count": 234,
     "metadata": {},
     "output_type": "execute_result"
    }
   ],
   "source": [
    "skip_pos = set()\n",
    "# skip_pos = set(('#', '-LRB-', '-RRB-', '-NONE-'))\n",
    "sum(len([i for i in s if i[1] in skip_pos]) for s in data['test_tags'])\n"
   ]
  },
  {
   "cell_type": "code",
   "execution_count": 173,
   "metadata": {},
   "outputs": [],
   "source": [
    "def get_pos_mapper(pos_from, pos_to):\n",
    "    \"\"\"need to map matrix with columns for pos_from to columns for pos_to\"\"\"\n",
    "    print(len(pos_from), len(pos_to))\n",
    "    mapper = []  # each element takes column mapper[i] and moves it to column i\n",
    "    cols_to_delete = []\n",
    "    for i, pos in enumerate(pos_to):\n",
    "        # pos_mapper[pos] = pos_to[i]\n",
    "        if pos in pos_from:\n",
    "            mapper.append(pos_from.index(pos))\n",
    "        else:\n",
    "            mapper.append(-1)\n",
    "            cols_to_delete.append(i)\n",
    "    def _map(x):\n",
    "        x = x[:, mapper]\n",
    "        # x = torch.delete(x, cols_to_delete, axis=1)\n",
    "        x[:, cols_to_delete] = 0\n",
    "        return x\n",
    "    return _map\n",
    "# pos_mapper = get_pos_mapper(data_biology['all_pos'], data_treebank['all_pos'])\n",
    "# pos_mapper(torch.randn(200, 51))"
   ]
  },
  {
   "cell_type": "code",
   "execution_count": 33,
   "metadata": {},
   "outputs": [],
   "source": [
    "# import pandas as pd\n",
    "# a = set(data_treebank['all_pos'])\n",
    "# b = set(data_biology['all_pos'])\n",
    "# c = []\n",
    "# for i in a.union(b):\n",
    "#     if i in a and i in b:\n",
    "#         c.append((i, 'z_both'))\n",
    "#     elif i in a:\n",
    "#         c.append((i, 'treebank'))\n",
    "#     elif i in b:\n",
    "#         c.append((i, 'biology'))\n",
    "# c = pd.DataFrame(c, columns=['pos', 'dataset'])\n",
    "# c.sort_values(by=['dataset'])"
   ]
  },
  {
   "cell_type": "code",
   "execution_count": 235,
   "metadata": {},
   "outputs": [],
   "source": [
    "device = 'cuda:2'\n",
    "\n",
    "from transformers import AutoTokenizer, AutoModel\n",
    "\n",
    "# sbert_tokenizer = AutoTokenizer.from_pretrained('QCRI/bert-base-multilingual-cased-pos-english')\n",
    "# sbert_model = AutoModel.from_pretrained('QCRI/bert-base-multilingual-cased-pos-english')\n",
    "\n",
    "sbert_tokenizer = AutoTokenizer.from_pretrained('sentence-transformers/multi-qa-mpnet-base-dot-v1')\n",
    "sbert_model = AutoModel.from_pretrained('sentence-transformers/multi-qa-mpnet-base-dot-v1')\n",
    "\n",
    "sbert_model = sbert_model.to(device)\n"
   ]
  },
  {
   "cell_type": "code",
   "execution_count": 212,
   "metadata": {},
   "outputs": [
    {
     "data": {
      "text/plain": [
       "111937"
      ]
     },
     "execution_count": 212,
     "metadata": {},
     "output_type": "execute_result"
    }
   ],
   "source": [
    "sum(len(i) for i in data['train_sentences']) + len(data['test_sentences'])\n"
   ]
  },
  {
   "cell_type": "code",
   "execution_count": 236,
   "metadata": {},
   "outputs": [],
   "source": [
    "if sbert_model.config._name_or_path == 'QCRI/bert-base-multilingual-cased-pos-english':\n",
    "    # FIX for POS SBERT\n",
    "    cnt = sum([1 if any(['`' in w for w in sent]) else 0 for sent in data['train_sentences']])\n",
    "    print(f'Found {cnt} sentences with ` in train')\n",
    "    cnt = sum([1 if any(['`' in w for w in sent]) else 0 for sent in data['test_sentences']])\n",
    "    print(f'Found {cnt} sentences with ` in test')\n",
    "    data['train_sentences'] = [[w.replace('`', '\\'') for w in sent] for sent in data['train_sentences']]\n",
    "    data['test_sentences'] = [[w.replace('`', '\\'') for w in sent] for sent in data['test_sentences']]\n",
    "\n"
   ]
  },
  {
   "cell_type": "code",
   "execution_count": null,
   "metadata": {},
   "outputs": [],
   "source": [
    "embeds, attn_masks = sbert.sbert_encode_batched(sbert_model, sbert_tokenizer, [' '.join(x) for x in data['train_sentences']], 64)\n",
    "train_embeds_pooled = sbert.pool_tokens(data['train_sentences'], embeds, attn_masks, sbert_tokenizer)\n",
    "\n",
    "embeds, attn_masks = sbert.sbert_encode_batched(sbert_model, sbert_tokenizer, [' '.join(x) for x in data['test_sentences']], 64)\n",
    "test_embeds_pooled = sbert.pool_tokens(data['test_sentences'], embeds, attn_masks, sbert_tokenizer)\n"
   ]
  },
  {
   "attachments": {},
   "cell_type": "markdown",
   "metadata": {},
   "source": [
    "## explore data"
   ]
  },
  {
   "cell_type": "code",
   "execution_count": 3,
   "metadata": {},
   "outputs": [],
   "source": [
    "# clear cuda cache\n",
    "# torch.cuda.empty_cache()\n",
    "# !nvidia-smi"
   ]
  },
  {
   "cell_type": "code",
   "execution_count": 239,
   "metadata": {},
   "outputs": [
    {
     "name": "stdout",
     "output_type": "stream",
     "text": [
      "['\"', '#', '$', \"''\", '(', ')', ',', '-LRB-', '-NONE-', '-RRB-', '.', ':', 'ADJ', 'ADV', 'AUX', 'AUXG', 'CC', 'CD', 'DT', 'EX', 'FW', 'IN', 'JJ', 'JJR', 'JJS', 'LS', 'MD', 'N', 'NN', 'NNP', 'NNPS', 'NNS', 'None', 'PDT', 'POS', 'PRP', 'PRP$', 'RB', 'RBR', 'RBS', 'RP', 'SYM', 'TO', 'UH', 'V', 'VB', 'VBD', 'VBG', 'VBN', 'VBP', 'VBZ', 'V_PASS', 'WDT', 'WP', 'WP$', 'WRB', '``']\n"
     ]
    }
   ],
   "source": [
    "print(data['all_pos'])\n"
   ]
  },
  {
   "cell_type": "code",
   "execution_count": 248,
   "metadata": {},
   "outputs": [
    {
     "name": "stdout",
     "output_type": "stream",
     "text": [
      "Storing embeds would take: 26.58 GB\n",
      "Wasted: 30.4%\n",
      "torch.Size([72588, 128, 768]) torch.Size([72588, 128])\n",
      "The following sentences are longer than the maximum of 128 tokens:\n"
     ]
    }
   ],
   "source": [
    "# embeds, attn_masks = sbert.sbert_encode_batched(sbert_model, sbert_tokenizer, [' '.join(x) for x in data['train_sentences']], 64)\n",
    "\n",
    "print(f'Storing embeds would take: {embeds.numel() * 4 / 1024 / 1024 / 1024:.2f} GB')\n",
    "print(f'Wasted: {100*attn_masks.sum().item() / attn_masks.numel():.1f}%')\n",
    "print(embeds.shape, attn_masks.shape)\n",
    "\n",
    "\n",
    "# print('The following sentences are longer than the maximum of 128 tokens:')\n",
    "# sent_id_overlen = torch.where(attn_masks[:, -1] == 1)[0]\n",
    "# for i in sent_id_overlen:\n",
    "#     print('\\t', ' '.join(data['train_sentences'][i]))"
   ]
  },
  {
   "cell_type": "code",
   "execution_count": 249,
   "metadata": {},
   "outputs": [
    {
     "name": "stdout",
     "output_type": "stream",
     "text": [
      "sent ['However', ',', 'a', 'definitive', 'conclusion', 'about', 'the', 'molecular', 'determinants', 'of', 'the', 'attenuation', 'could', 'not', 'be', 'drawn', '.']\n",
      "untokenized ['<s>', 'however', ',', 'a', 'definitive', 'conclusion', 'about', 'the', 'molecular', 'deter', '##mina', '##nts', 'of', 'the', 'at', '##ten', '##uation', 'could', 'not', 'be', 'drawn', '.', '</s>']\n",
      "??? what is this in the test set ['Combination', 'with', 'tramadol', '(', 'Ultram', ')', 'is', 'associated', 'with', 'increased', 'risk', 'of', 'seizures', '.']\n"
     ]
    }
   ],
   "source": [
    "# data['train_sentences']\n",
    "i = 0\n",
    "e = embeds[i, attn_masks[i]==1]\n",
    "e.shape[0], len(data['train_sentences'][i])\n",
    "\n",
    "print('sent', data['train_sentences'][i])\n",
    "print('untokenized', sbert_tokenizer.convert_ids_to_tokens(sbert_tokenizer.encode_plus(' '.join(data['train_sentences'][i]))['input_ids']))\n",
    "\n",
    "print('??? what is this in the test set', data['test_sentences'][739])"
   ]
  },
  {
   "cell_type": "code",
   "execution_count": 265,
   "metadata": {},
   "outputs": [],
   "source": [
    "# data = data_biology"
   ]
  },
  {
   "cell_type": "code",
   "execution_count": 266,
   "metadata": {},
   "outputs": [
    {
     "name": "stdout",
     "output_type": "stream",
     "text": [
      "[('of', 78179), ('the', 74022), (',', 72629), ('.', 69869), ('and', 49330), ('in', 44006), ('to', 27750), ('a', 24941), ('(', 24924), (')', 24682), ('that', 18395), ('is', 16619), ('by', 16576), ('with', 16488), ('cells', 13646), ('for', 11513), ('was', 10720), ('The', 10408), ('-', 8941), ('expression', 8669), ('gene', 8042), ('as', 7639), ('or', 7233), ('cell', 7120), ('B', 7098), ('from', 6702), ('are', 6680), ('not', 6663), ('were', 6310), ('be', 6260), ('an', 6218), ('protein', 6201), ('transcription', 6159), ('on', 6021), ('activation', 5741), ('human', 5565), ('activity', 5197), ('which', 5169), ('T', 5105), ('In', 4986)]\n",
      "[(',', 33631), ('of', 32960), ('the', 30819), ('.', 30558), ('and', 23277), ('in', 19958), ('to', 12260), ('(', 12040), (')', 11994), ('a', 10604), ('that', 7915), ('with', 7621), ('is', 6725), ('by', 6671), ('cells', 5574), ('was', 4992), ('for', 4983), ('The', 4382), ('-', 3776), ('were', 3452), ('as', 3443), ('expression', 3228), ('cell', 2974), ('are', 2932), ('from', 2880), ('or', 2833), ('protein', 2729), ('not', 2651), ('an', 2638), ('be', 2581), ('gene', 2570), ('on', 2505), ('In', 2195), (']', 2054), ('activity', 2036), ('human', 2014), ('this', 1991), ('which', 1962), ('we', 1927), ('[', 1921)]\n"
     ]
    },
    {
     "data": {
      "image/png": "[encoded data removed]",
      "text/plain": [
       "<Figure size 640x480 with 1 Axes>"
      ]
     },
     "metadata": {},
     "output_type": "display_data"
    }
   ],
   "source": [
    "from matplotlib import pyplot as plt\n",
    "from collections import Counter\n",
    "\n",
    "all_words = [n for sent in data['train_sentences'] for n in sent]\n",
    "counts = Counter(all_words)\n",
    "max_counts_train = counts.most_common(40)\n",
    "print(max_counts_train)\n",
    "max_vals = sorted(list(counts.values()), reverse=True)\n",
    "plt.plot(range(len(counts)), max_vals, label='train', linestyle='-.', color='blue')\n",
    "\n",
    "all_words = [n for sent in data['test_sentences'] for n in sent]\n",
    "counts = Counter(all_words)\n",
    "max_counts_test = counts.most_common(40)\n",
    "print(max_counts_test)\n",
    "max_vals = sorted(list(counts.values()), reverse=True)\n",
    "plt.plot(range(len(counts)), max_vals, label='test', linestyle='-.', color='red')\n",
    "\n",
    "plt.yscale('log')\n",
    "# plt.xscale('log')\n",
    "plt.xlabel('word rank')\n",
    "plt.ylabel('word count')\n",
    "plt.title('Word frequency in BioNLP dataset')\n",
    "plt.legend()\n",
    "plt.savefig('bionlp1.png')\n"
   ]
  },
  {
   "cell_type": "code",
   "execution_count": 267,
   "metadata": {},
   "outputs": [
    {
     "data": {
      "image/png": "[encoded data removed]",
      "text/plain": [
       "<Figure size 1500x500 with 1 Axes>"
      ]
     },
     "metadata": {},
     "output_type": "display_data"
    }
   ],
   "source": [
    "# make plot wider\n",
    "plt.gcf().set_size_inches(15, 5)\n",
    "# historgram of top 10 words\n",
    "# change color to red\n",
    "train_words = [n[0] for n in max_counts_train]\n",
    "plt.bar(train_words, [n[1] for n in max_counts_train], label='train', alpha=0.7, hatch='', edgecolor='black', linewidth=2, color='blue')\n",
    "plt.bar([n[0] for n in max_counts_test if n[0] in train_words], [n[1] for n in max_counts_test if n[0] in train_words], label='test', alpha=0.7, hatch='x', edgecolor='black', linewidth=2, color='red')\n",
    "\n",
    "# increase font size for title\n",
    "plt.xticks(fontsize=12)\n",
    "plt.yticks(fontsize=12)\n",
    "plt.legend(fontsize=15)\n",
    "\n",
    "plt.xticks(rotation=60)\n",
    "plt.legend()\n",
    "\n",
    "plt.ylabel('word count')\n",
    "plt.title(f'Top {len(train_words)} words in BioNLP dataset', fontsize=20)\n",
    "\n",
    "plt.savefig('bionlp2.png', bbox_inches='tight')\n"
   ]
  },
  {
   "cell_type": "code",
   "execution_count": 261,
   "metadata": {},
   "outputs": [
    {
     "data": {
      "image/png": "[encoded data removed]",
      "text/plain": [
       "<Figure size 640x480 with 1 Axes>"
      ]
     },
     "metadata": {},
     "output_type": "display_data"
    }
   ],
   "source": [
    "lens_train = [len(x) for x in data['train_sentences']]\n",
    "lens_test = [len(x) for x in data['test_sentences']]\n",
    "min_len = min(min(lens_train), min(lens_test))\n",
    "max_len = max(max(lens_train), max(lens_test))\n",
    "\n",
    "plt.hist(lens_train, bins=range(min_len, max_len+1, 4), label='train', alpha=0.7, hatch='', edgecolor='black', linewidth=2, color='blue')\n",
    "plt.hist(lens_test, bins=range(min_len, max_len+1, 4), label='test', alpha=0.7, hatch='x', edgecolor='black', linewidth=2, color='red')\n",
    "# plt.yscale('log')\n",
    "plt.xlabel('sentence length')\n",
    "plt.ylabel('sentence count')\n",
    "plt.legend()\n",
    "plt.title('Sentence length distribution in our subset of the Penn Treebank')\n",
    "plt.savefig('penn3.png')"
   ]
  },
  {
   "cell_type": "code",
   "execution_count": 56,
   "metadata": {},
   "outputs": [
    {
     "data": {
      "text/plain": [
       "1"
      ]
     },
     "execution_count": 56,
     "metadata": {},
     "output_type": "execute_result"
    }
   ],
   "source": [
    "len([i for i in lens_train if i > 128])"
   ]
  },
  {
   "cell_type": "code",
   "execution_count": 262,
   "metadata": {},
   "outputs": [
    {
     "data": {
      "image/png": "[encoded data removed]",
      "text/plain": [
       "<Figure size 640x480 with 1 Axes>"
      ]
     },
     "metadata": {},
     "output_type": "display_data"
    }
   ],
   "source": [
    "# boxplot\n",
    "plt.boxplot([lens_train, lens_test], labels=['train', 'test'])\n",
    "# violinplot\n",
    "plt.violinplot([lens_train, lens_test], showextrema=False)\n",
    "# color boxes\n",
    "plt.ylabel('sentence length')\n",
    "plt.title('Sentence length distribution in our subset of the Penn Treebank')\n",
    "plt.savefig('penn4.png')"
   ]
  },
  {
   "cell_type": "code",
   "execution_count": 255,
   "metadata": {},
   "outputs": [
    {
     "name": "stdout",
     "output_type": "stream",
     "text": [
      "3 ['The', 'new', 'company', 'will', 'attempt', '*-1', 'to', 'limit', 'the', 'shipyard', \"'s\", 'losses', ',', 'participants', 'said', '0', '*T*-2', '.']\n",
      "[('The', 'DT'), ('new', 'JJ'), ('company', 'NN'), ('will', 'MD'), ('attempt', 'VB'), ('*-1', '-NONE-'), ('to', 'TO'), ('limit', 'VB'), ('the', 'DT'), ('shipyard', 'NN'), (\"'s\", 'POS'), ('losses', 'NNS'), (',', ','), ('participants', 'NNS'), ('said', 'VBD'), ('0', '-NONE-'), ('*T*-2', '-NONE-'), ('.', '.')]\n"
     ]
    }
   ],
   "source": [
    "for i, n in enumerate(data['train_sentences']):\n",
    "    if '*-1' in n and i != 2:\n",
    "        print(i, n)\n",
    "        print(data['train_tags'][i])\n",
    "        break"
   ]
  },
  {
   "attachments": {},
   "cell_type": "markdown",
   "metadata": {},
   "source": [
    "## build simple model"
   ]
  },
  {
   "cell_type": "code",
   "execution_count": 215,
   "metadata": {},
   "outputs": [
    {
     "data": {
      "text/plain": [
       "<module 'sbert' from '/storage/arkareem/projects/classes/Penn-Tree-Bank-Project/sbert.py'>"
      ]
     },
     "execution_count": 215,
     "metadata": {},
     "output_type": "execute_result"
    }
   ],
   "source": [
    "import importlib\n",
    "importlib.reload(sbert)"
   ]
  },
  {
   "cell_type": "code",
   "execution_count": null,
   "metadata": {},
   "outputs": [],
   "source": []
  },
  {
   "cell_type": "code",
   "execution_count": 232,
   "metadata": {},
   "outputs": [],
   "source": [
    "\n",
    "train_dataset = sbert.ListDataset(train_embeds_pooled, data['train_tags'], data['all_pos'], skip_pos=skip_pos)\n",
    "test_dataset = sbert.ListDataset(test_embeds_pooled, data['test_tags'], data['all_pos'], skip_pos=skip_pos)\n",
    "\n",
    "batch_size = 64\n",
    "train_dataset = torch.utils.data.DataLoader(train_dataset, batch_size=batch_size, shuffle=True, collate_fn=lambda x: x)\n",
    "test_dataset = torch.utils.data.DataLoader(test_dataset, batch_size=batch_size, shuffle=False, collate_fn=lambda x: x)\n"
   ]
  },
  {
   "cell_type": "code",
   "execution_count": 217,
   "metadata": {},
   "outputs": [
    {
     "data": {
      "text/plain": [
       "<module 'sbert' from '/storage/arkareem/projects/classes/Penn-Tree-Bank-Project/sbert.py'>"
      ]
     },
     "execution_count": 217,
     "metadata": {},
     "output_type": "execute_result"
    }
   ],
   "source": [
    "import importlib\n",
    "importlib.reload(sbert)"
   ]
  },
  {
   "cell_type": "code",
   "execution_count": 199,
   "metadata": {},
   "outputs": [
    {
     "name": "stdout",
     "output_type": "stream",
     "text": [
      "most common: 28 NN\n",
      "predicting most common pos would be 13.0% accurate\n"
     ]
    }
   ],
   "source": [
    "# get most common pos\n",
    "pos_counts = np.bincount([y for n in train_dataset.dataset.data for y in n[3]])\n",
    "print('most common:', pos_counts.argmax(), data['all_pos'][pos_counts.argmax()])\n",
    "print('predicting most common pos would be', f'{100*pos_counts[pos_counts.argmax()]/pos_counts.sum():.1f}%', 'accurate')"
   ]
  },
  {
   "cell_type": "code",
   "execution_count": 230,
   "metadata": {},
   "outputs": [
    {
     "name": "stdout",
     "output_type": "stream",
     "text": [
      "trainable #p: 43,833\n"
     ]
    }
   ],
   "source": [
    "\n",
    "device = 'cpu'\n",
    "\n",
    "model_config = {\n",
    "    'input_dim': 768, \n",
    "    'hidden_dims': [],\n",
    "    'output_dim': len(data['all_pos']),\n",
    "    'dropout': 0.2,\n",
    "}\n",
    "\n",
    "model = sbert.SimpleModel(model_config).to(device)\n",
    "\n",
    "\n",
    "param_count = sum([p.numel() for n,p in model.named_parameters()])\n",
    "print(f'trainable #p: {param_count:,}')\n",
    "\n",
    "lr = 1e-3\n",
    "weight_decay = 0.01\n",
    "optim = torch.optim.AdamW(model.parameters(), lr=lr, weight_decay=weight_decay)\n",
    "criterion_ce = torch.nn.CrossEntropyLoss()\n",
    "cur_epoch = 0"
   ]
  },
  {
   "cell_type": "code",
   "execution_count": null,
   "metadata": {},
   "outputs": [],
   "source": [
    "wandb.init(project=\"6.8630 Penn Treebank Project\", config={\n",
    "    \"architecture\": \"SimpleModel\",\n",
    "    # \"dataset\": \"treebank_3914\",\n",
    "    \"dataset\": \"Biology\",\n",
    "\n",
    "    \"learning_rate\": lr,\n",
    "    'weight_decay': weight_decay,\n",
    "    \"model_config\": model_config,\n",
    "    \"#params\": param_count,\n",
    "})"
   ]
  },
  {
   "cell_type": "code",
   "execution_count": 74,
   "metadata": {},
   "outputs": [],
   "source": [
    "wandb.finish()"
   ]
  },
  {
   "cell_type": "code",
   "execution_count": null,
   "metadata": {},
   "outputs": [],
   "source": [
    "from tqdm.notebook import tqdm\n",
    "importlib.reload(sbert)\n",
    "\n",
    "device = 'cpu'\n",
    "verbose = False\n",
    "for i in range(300):\n",
    "    train_acc = sbert.single_epoch(model, train_dataset, criterion_ce, epoch=cur_epoch, optim=optim, is_train=True, device=device, verbose=verbose)\n",
    "    if i % 1 == 0:\n",
    "        val_acc = sbert.single_epoch(model, test_dataset, criterion_ce, epoch=cur_epoch, optim=None, is_train=False, device=device, verbose=verbose)\n",
    "        if not verbose: print(f'T {train_acc:.1f} V {val_acc:.1f}')\n",
    "        if val_acc > float(sbert.read_json_prop('best_val')):\n",
    "            sbert.write_json_prop('best_val', val_acc)\n",
    "            torch.save({'params': model.state_dict(), 'config': model.model_config}, 'best_model.pt')\n",
    "            print('---saved best model---')\n",
    "    cur_epoch += 1"
   ]
  },
  {
   "cell_type": "code",
   "execution_count": null,
   "metadata": {},
   "outputs": [],
   "source": [
    "sbert.single_epoch(model, test_dataset, criterion_ce, epoch=cur_epoch, optim=None, is_train=False, device=device)"
   ]
  },
  {
   "cell_type": "code",
   "execution_count": 204,
   "metadata": {},
   "outputs": [
    {
     "name": "stdout",
     "output_type": "stream",
     "text": [
      "['\"', '#', '$', \"''\", '(', ')', ',', '-LRB-', '-NONE-', '-RRB-', '.', ':', 'ADJ', 'ADV', 'AUX', 'AUXG', 'CC', 'CD', 'DT', 'EX', 'FW', 'IN', 'JJ', 'JJR', 'JJS', 'LS', 'MD', 'N', 'NN', 'NNP', 'NNPS', 'NNS', 'None', 'PDT', 'POS', 'PRP', 'PRP$', 'RB', 'RBR', 'RBS', 'RP', 'SYM', 'TO', 'UH', 'V', 'VB', 'VBD', 'VBG', 'VBN', 'VBP', 'VBZ', 'V_PASS', 'WDT', 'WP', 'WP$', 'WRB', '``']\n"
     ]
    }
   ],
   "source": [
    "print(data['all_pos'])"
   ]
  },
  {
   "cell_type": "code",
   "execution_count": 83,
   "metadata": {},
   "outputs": [
    {
     "name": "stderr",
     "output_type": "stream",
     "text": [
      "Val Epoch: -1 Acc: 66.3% Loss: 2.461785: 100%|████████████████████████████████████████████████████████████████████████████████████████████████████████████████████████████| 13/13 [00:00<00:00, 138.81it/s]\n"
     ]
    },
    {
     "data": {
      "text/plain": [
       "66.30006326341915"
      ]
     },
     "execution_count": 83,
     "metadata": {},
     "output_type": "execute_result"
    }
   ],
   "source": [
    "# print('loading and testing')\n",
    "checkpoint = torch.load('best_biology_model.pt')\n",
    "model = sbert.SimpleModel(checkpoint['config']).to('cpu')\n",
    "model.load_state_dict(checkpoint['params'])\n",
    "sbert.single_epoch(model, test_dataset, criterion_ce=torch.nn.CrossEntropyLoss(), epoch=-1, optim=None, is_train=False, device='cpu', pos_mapper=pos_mapper)"
   ]
  },
  {
   "cell_type": "code",
   "execution_count": 25,
   "metadata": {},
   "outputs": [
    {
     "name": "stdout",
     "output_type": "stream",
     "text": [
      "sent ['This', 'is', 'a', 'test', 'sentance']\n",
      "pred ['FW', '``', 'FW', 'NNS', 'NNS']\n",
      "prob ['95%', '99%', '99%', '99%', '79%']\n",
      "\n",
      "sent ['This', 'is', 'a', 'valid', 'sentance']\n",
      "pred ['FW', '``', 'FW', 'JJS', 'NNS']\n",
      "prob ['94%', '100%', '100%', '100%', '99%']\n",
      "\n",
      "sent ['The', 'old', 'man', 'the', 'boat']\n",
      "pred ['FW', 'JJS', 'NNS', 'NNS', 'NNS']\n",
      "prob ['100%', '100%', '98%', '90%', '98%']\n",
      "\n",
      "sent ['Adam', 'and', 'Joe', 'man', 'the', 'boat']\n",
      "pred ['PDT', 'DT', 'PDT', 'WRB', 'JJR', 'PDT']\n",
      "prob ['99%', '100%', '100%', '89%', '60%', '85%']\n",
      "\n"
     ]
    }
   ],
   "source": [
    "new_sentance = [\n",
    "    'This is a test sentance'.split(' '),\n",
    "    'This is a valid sentance'.split(' '),\n",
    "    'The old man the boat'.split(' '),\n",
    "    'Adam and Joe man the boat'.split(' '),\n",
    "]\n",
    "\n",
    "embeds, attn_masks = sbert.sbert_encode_batched(sbert_model, sbert_tokenizer, [' '.join(x) for x in new_sentance], 64, verbose=False)\n",
    "new_embeds_pooled = sbert.pool_tokens(new_sentance, embeds, attn_masks, sbert_tokenizer, verbose=False)\n",
    "with torch.no_grad():\n",
    "    new_embeds_out = [loaded_model(x) for x in new_embeds_pooled]\n",
    "\n",
    "for i in range(len(new_sentance)):\n",
    "    o = new_embeds_out[i]\n",
    "    prob_pos, pred_pos_id = torch.softmax(o, dim=1).max(dim=1)\n",
    "    pred_pos = [data['all_pos'][x] for x in pred_pos_id]\n",
    "    print('sent', new_sentance[i])\n",
    "    print('pred', pred_pos)\n",
    "    print('prob', [str(round(100*x.item()))+'%' for x in prob_pos])\n",
    "    print('')\n"
   ]
  },
  {
   "cell_type": "code",
   "execution_count": 26,
   "metadata": {},
   "outputs": [
    {
     "data": {
      "text/plain": [
       "(3131, 783)"
      ]
     },
     "execution_count": 26,
     "metadata": {},
     "output_type": "execute_result"
    }
   ],
   "source": [
    "len(data['train_sentences']), len(data['test_sentences'])"
   ]
  },
  {
   "attachments": {},
   "cell_type": "markdown",
   "metadata": {},
   "source": [
    "# Biology data"
   ]
  },
  {
   "cell_type": "code",
   "execution_count": 2,
   "metadata": {},
   "outputs": [],
   "source": [
    "from tqdm.notebook import tqdm\n"
   ]
  },
  {
   "cell_type": "code",
   "execution_count": 4,
   "metadata": {},
   "outputs": [],
   "source": [
    "import os\n",
    "from pathlib import Path\n",
    "\n",
    "d = Path('/storage/arkareem/projects/biology/git_repos/TEES/.tees/corpora/')\n",
    "bio_files = [d/i for i in os.listdir(d)]\n",
    "bio_files = [i for i in bio_files if i.is_file() and i.suffix == '.xml']\n",
    "for i in bio_files:\n",
    "    a, b, c = [1 if (word in i.stem) else 0 for word in ['train', 'devel', 'test']]\n",
    "    assert a+b+c == 1\n",
    "bio_files = {\n",
    "    'train': [i for i in bio_files if 'train' in i.stem],\n",
    "    'val': [i for i in bio_files if 'devel' in i.stem],\n",
    "    'test': [i for i in bio_files if 'test' in i.stem],\n",
    "}\n"
   ]
  },
  {
   "cell_type": "code",
   "execution_count": null,
   "metadata": {},
   "outputs": [],
   "source": [
    "!head /storage/arkareem/projects/biology/git_repos/TEES/.tees/corpora/BB11-train.xml"
   ]
  },
  {
   "cell_type": "code",
   "execution_count": 25,
   "metadata": {},
   "outputs": [
    {
     "data": {
      "application/vnd.jupyter.widget-view+json": {
       "model_id": "d6031fe3aa3f49cf857f6b052b9d119b",
       "version_major": 2,
       "version_minor": 0
      },
      "text/plain": [
       "  0%|          | 0/17 [00:00<?, ?it/s]"
      ]
     },
     "metadata": {},
     "output_type": "display_data"
    },
    {
     "data": {
      "application/vnd.jupyter.widget-view+json": {
       "model_id": "d8e963988ae740d98d4e1b15784ae85a",
       "version_major": 2,
       "version_minor": 0
      },
      "text/plain": [
       "  0%|          | 0/19 [00:00<?, ?it/s]"
      ]
     },
     "metadata": {},
     "output_type": "display_data"
    }
   ],
   "source": [
    "\n",
    "import xml\n",
    "import xml.etree.ElementTree as ET\n",
    "\n",
    "\n",
    "def get_data(files):\n",
    "    biology_data = []\n",
    "    pbar = tqdm(files)\n",
    "    for file_i, f in enumerate(pbar):\n",
    "        root = ET.parse(f).getroot()\n",
    "        docs = [i for i in root]\n",
    "        # assert all(i.tag == 'document' for i in docs)\n",
    "        for doc_i, doc in enumerate(docs):\n",
    "            pbar.set_description(f'{100*doc_i/len(docs):.1f}')\n",
    "            sents = [i for i in doc]\n",
    "            # assert all(i.tag == 'sentence' for i in sents)\n",
    "            for s_i, s in enumerate(sents):\n",
    "                s = s.findall('analyses')\n",
    "                if len(s) == 0: continue\n",
    "                # assert len(s) == 1, (s, f.stem, doc_i, s_i)\n",
    "                s = s[0].findall('tokenization')\n",
    "                if len(s) == 0: continue\n",
    "                # assert len(s) == 1, (s, f.stem, doc_i, s_i)\n",
    "                s = s[0].findall('token')\n",
    "                s = [(i.attrib['text'], i.attrib['POS']) for i in s]\n",
    "                # print(s)\n",
    "                biology_data.append({\n",
    "                    'data': s,\n",
    "                    'file': f.stem,\n",
    "                    'doc_i': doc_i,\n",
    "                    'sent_i': s_i,\n",
    "                })\n",
    "    return biology_data\n",
    "biology_training_data = get_data(bio_files['train'])\n",
    "biology_val_data = get_data(bio_files['val'])\n",
    "biology_test_data = get_data(bio_files['test'])"
   ]
  },
  {
   "cell_type": "code",
   "execution_count": 61,
   "metadata": {},
   "outputs": [],
   "source": [
    "import json\n",
    "def my_json_dumps(x, fname):\n",
    "    res = '[\\n'\n",
    "    for i in x:\n",
    "        res += json.dumps(i, separators=(',', ':')) + ',\\n'\n",
    "    res = res[:-2] + '\\n'\n",
    "    res += ']'\n",
    "    with open(fname, 'w') as f:\n",
    "        f.write(res)\n",
    "\n",
    "my_json_dumps(biology_training_data, '.data/biology/biology_data_train.json')\n",
    "my_json_dumps(biology_val_data, '.data/biology/biology_data_val.json')\n",
    "my_json_dumps(biology_test_data, '.data/biology/biology_data_test.json')"
   ]
  },
  {
   "cell_type": "code",
   "execution_count": 47,
   "metadata": {},
   "outputs": [
    {
     "name": "stdout",
     "output_type": "stream",
     "text": [
      "Biology #samples:\n",
      "  Train:72,596 | Val:19,624, Test:31,811\n",
      "\n",
      "Random example:\n",
      "Sentance: Renal cell carcinoma-derived gangliosides suppress nuclear factor-kappaB activation in T cells .\n"
     ]
    },
    {
     "data": {
      "text/plain": [
       "{'data': [('Renal', 'JJ'),\n",
       "  ('cell', 'NN'),\n",
       "  ('carcinoma-derived', 'JJ'),\n",
       "  ('gangliosides', 'NNS'),\n",
       "  ('suppress', 'VBP'),\n",
       "  ('nuclear', 'JJ'),\n",
       "  ('factor-kappaB', 'NN'),\n",
       "  ('activation', 'NN'),\n",
       "  ('in', 'IN'),\n",
       "  ('T', 'NN'),\n",
       "  ('cells', 'NNS'),\n",
       "  ('.', '.')],\n",
       " 'file': 'GE11-train',\n",
       " 'doc_i': 231,\n",
       " 'sent_i': 0}"
      ]
     },
     "metadata": {},
     "output_type": "display_data"
    }
   ],
   "source": [
    "import numpy as np\n",
    "print(f'Biology #samples:\\n  Train:{len(biology_training_data):,} | Val:{len(biology_val_data):,}, Test:{len(biology_test_data):,}')\n",
    "print(f'\\nRandom example:')\n",
    "s = np.random.choice(biology_training_data)\n",
    "print('Sentance: ' + ' '.join([i[0] for i in s['data']]))\n",
    "display(s)"
   ]
  },
  {
   "cell_type": "code",
   "execution_count": 76,
   "metadata": {},
   "outputs": [
    {
     "data": {
      "text/plain": [
       "[['DNA', 'JJ'],\n",
       " ['-', 'JJ'],\n",
       " ['binding', 'JJ'],\n",
       " ['properties', 'NNS'],\n",
       " ['of', 'IN'],\n",
       " ['HIV-TF1', 'NNP'],\n",
       " ['suggested', 'VBD'],\n",
       " ['that', 'IN'],\n",
       " ['HIV-TF1', 'NNP'],\n",
       " ['might', 'MD'],\n",
       " ['be', 'AUX'],\n",
       " ['identical', 'JJ'],\n",
       " ['or', 'CC'],\n",
       " ['related', 'JJ'],\n",
       " ['to', 'TO'],\n",
       " ['USF', 'NNP'],\n",
       " ['.', '.']]"
      ]
     },
     "execution_count": 76,
     "metadata": {},
     "output_type": "execute_result"
    }
   ],
   "source": [
    "biology_data"
   ]
  },
  {
   "cell_type": "code",
   "execution_count": 28,
   "metadata": {},
   "outputs": [
    {
     "name": "stdout",
     "output_type": "stream",
     "text": [
      "total 82M\n",
      "drwxrwxr-x 2 arkareem arkareem 4.0K May 15 23:47 .\n",
      "drwxrwxr-x 7 arkareem arkareem 4.0K May 15 23:37 ..\n",
      "-rw-rw-r-- 1 arkareem arkareem  14M May 15 23:47 biology_data_test.json\n",
      "-rw-rw-r-- 1 arkareem arkareem  31M May 15 23:43 biology_data_training.json\n",
      "-rw-rw-r-- 1 arkareem arkareem  29M May 15 23:38 biology_data_training.pkl\n",
      "-rw-rw-r-- 1 arkareem arkareem 8.3M May 15 23:46 biology_data_val.json\n"
     ]
    }
   ],
   "source": [
    "!ls -alh .data/biology"
   ]
  },
  {
   "cell_type": "code",
   "execution_count": 169,
   "metadata": {},
   "outputs": [
    {
     "name": "stdout",
     "output_type": "stream",
     "text": [
      "TAG:document {'id': 'BI11.d16', 'origId': 'PMID-10075739-S5', 'set': 'train', 'text': 'Here, we show that GerE binds near the sigK transcriptional start site, to act as a repressor.\\n'} TEXT: \n",
      "children: 1\n",
      "0   TAG:sentence {'charOffset': '0-95', 'id': 'BI11.d16.s0', 'origId': 'PMID-10075739-S5', 'text': 'Here, we show that GerE binds near the sigK transcriptional start site, to act as a repressor.\\n'} TEXT: \n",
      "  children: 7\n",
      "  0     TAG:entity {'charOffset': '19-23', 'given': 'True', 'headOffset': '19-23', 'id': 'BI11.d16.s0.e0', 'origId': 'PMID-10075739-S5.T1', 'text': 'GerE', 'type': 'Protein'} TEXT: \n",
      "  1     TAG:entity {'charOffset': '39-43', 'given': 'True', 'headOffset': '39-43', 'id': 'BI11.d16.s0.e1', 'origId': 'PMID-10075739-S5.T2', 'text': 'sigK', 'type': 'Gene'} TEXT: \n",
      "  2     TAG:entity {'charOffset': '44-70', 'given': 'True', 'headOffset': '66-70', 'id': 'BI11.d16.s0.e2', 'origId': 'PMID-10075739-S5.T3', 'text': 'transcriptional start site', 'type': 'Site'} TEXT: \n",
      "  3     TAG:interaction {'directed': 'True', 'e1': 'BI11.d16.s0.e0', 'e1Role': 'Agent', 'e2': 'BI11.d16.s0.e2', 'e2Role': 'Target', 'id': 'BI11.d16.s0.i0', 'origId': 'PMID-10075739-S5.E1', 'type': 'BindTo'} TEXT: \n",
      "  4     TAG:interaction {'directed': 'True', 'e1': 'BI11.d16.s0.e2', 'e1Role': 'Target', 'e2': 'BI11.d16.s0.e1', 'e2Role': 'Site', 'id': 'BI11.d16.s0.i1', 'origId': 'PMID-10075739-S5.E2', 'type': 'SiteOf'} TEXT: \n",
      "  5     TAG:interaction {'directed': 'True', 'e1': 'BI11.d16.s0.e0', 'e1Role': 'Agent', 'e2': 'BI11.d16.s0.e1', 'e2Role': 'Target', 'id': 'BI11.d16.s0.i2', 'origId': 'PMID-10075739-S5.E3', 'type': 'Interaction'} TEXT: \n",
      "  6     TAG:analyses {} TEXT: \n",
      "    children: 4\n",
      "    0       TAG:parse {'parser': 'gold', 'tokenizer': 'gold'} TEXT: \n",
      "      children: 9\n",
      "      0         TAG:dependency {'id': 'R1', 't1': 'W14', 't2': 'W17', 'type': 'comp:V-N(as)'} TEXT: \n",
      "      1         TAG:dependency {'id': 'R2', 't1': 'W6', 't2': 'W5', 'type': 'subj:V-N'} TEXT: \n",
      "      2         TAG:dependency {'id': 'R3', 't1': 'W3', 't2': 'W1', 'type': 'mod:V-ADV'} TEXT: \n",
      "      3         TAG:dependency {'id': 'R4', 't1': 'W3', 't2': 'W2', 'type': 'subj:V-N'} TEXT: \n",
      "      4         TAG:dependency {'id': 'R5', 't1': 'W12', 't2': 'W9', 'type': 'mod_att:N-N'} TEXT: \n",
      "      5         TAG:dependency {'id': 'R6', 't1': 'W14', 't2': 'W5', 'type': 'subj:V-N'} TEXT: \n",
      "      6         TAG:dependency {'id': 'R7', 't1': 'W12', 't2': 'W10', 'type': 'mod_att:N-ADJ'} TEXT: \n",
      "      7         TAG:dependency {'id': 'R8', 't1': 'W12', 't2': 'W11', 'type': 'mod_att:N-N'} TEXT: \n",
      "      8         TAG:dependency {'id': 'R9', 't1': 'W6', 't2': 'W12', 'type': 'comp:V-N(near)'} TEXT: \n",
      "    1       TAG:tokenization {'tokenizer': 'gold'} TEXT: \n",
      "      children: 17\n",
      "      0         TAG:token {'POS': 'ADV', 'charOffset': '0-4', 'id': 'W1', 'text': 'Here'} TEXT: \n",
      "      1         TAG:token {'POS': 'N', 'charOffset': '6-8', 'id': 'W2', 'text': 'we'} TEXT: \n",
      "      2         TAG:token {'POS': 'V', 'charOffset': '9-13', 'id': 'W3', 'text': 'show'} TEXT: \n",
      "      3         TAG:token {'POS': 'None', 'charOffset': '14-18', 'id': 'W4', 'text': 'that'} TEXT: \n",
      "      4         TAG:token {'POS': 'N', 'charOffset': '19-23', 'id': 'W5', 'text': 'GerE'} TEXT: \n",
      "      5         TAG:token {'POS': 'V', 'charOffset': '24-29', 'id': 'W6', 'text': 'binds'} TEXT: \n",
      "      6         TAG:token {'POS': 'None', 'charOffset': '30-34', 'id': 'W7', 'text': 'near'} TEXT: \n",
      "      7         TAG:token {'POS': 'None', 'charOffset': '35-38', 'id': 'W8', 'text': 'the'} TEXT: \n",
      "      8         TAG:token {'POS': 'N', 'charOffset': '39-43', 'id': 'W9', 'text': 'sigK'} TEXT: \n",
      "      9         TAG:token {'POS': 'ADJ', 'charOffset': '44-59', 'id': 'W10', 'text': 'transcriptional'} TEXT: \n",
      "      10         TAG:token {'POS': 'N', 'charOffset': '60-65', 'id': 'W11', 'text': 'start'} TEXT: \n",
      "      11         TAG:token {'POS': 'N', 'charOffset': '66-70', 'id': 'W12', 'text': 'site'} TEXT: \n",
      "      12         TAG:token {'POS': 'None', 'charOffset': '72-74', 'id': 'W13', 'text': 'to'} TEXT: \n",
      "      13         TAG:token {'POS': 'V', 'charOffset': '75-78', 'id': 'W14', 'text': 'act'} TEXT: \n",
      "      14         TAG:token {'POS': 'None', 'charOffset': '79-81', 'id': 'W15', 'text': 'as'} TEXT: \n",
      "      15         TAG:token {'POS': 'None', 'charOffset': '82-83', 'id': 'W16', 'text': 'a'} TEXT: \n",
      "      16         TAG:token {'POS': 'N', 'charOffset': '84-93', 'id': 'W17', 'text': 'repressor'} TEXT: \n",
      "    2       TAG:tokenization {'ProteinNameSplitter': 'True', 'source': \"BioNLP'11\", 'tokenizer': 'McCC'} TEXT: \n",
      "      children: 20\n",
      "      0         TAG:token {'POS': 'RB', 'charOffset': '0-4', 'headScore': '1', 'id': 'bt_0', 'text': 'Here'} TEXT: \n",
      "      1         TAG:token {'POS': ',', 'charOffset': '4-5', 'headScore': '1', 'id': 'bt_1', 'text': ','} TEXT: \n",
      "      2         TAG:token {'POS': 'PRP', 'charOffset': '6-8', 'headScore': '1', 'id': 'bt_2', 'text': 'we'} TEXT: \n",
      "      3         TAG:token {'POS': 'VBP', 'charOffset': '9-13', 'headScore': '1', 'id': 'bt_3', 'text': 'show'} TEXT: \n",
      "      4         TAG:token {'POS': 'IN', 'charOffset': '14-18', 'headScore': '1', 'id': 'bt_4', 'text': 'that'} TEXT: \n",
      "      5         TAG:token {'POS': 'NN', 'charOffset': '19-23', 'headScore': '1', 'id': 'bt_5', 'text': 'GerE'} TEXT: \n",
      "      6         TAG:token {'POS': 'VBZ', 'charOffset': '24-29', 'headScore': '1', 'id': 'bt_6', 'text': 'binds'} TEXT: \n",
      "      7         TAG:token {'POS': 'IN', 'charOffset': '30-34', 'headScore': '0', 'id': 'bt_7', 'text': 'near'} TEXT: \n",
      "      8         TAG:token {'POS': 'DT', 'charOffset': '35-38', 'headScore': '1', 'id': 'bt_8', 'text': 'the'} TEXT: \n",
      "      9         TAG:token {'POS': 'NN', 'charOffset': '39-43', 'headScore': '1', 'id': 'bt_9', 'text': 'sigK'} TEXT: \n",
      "      10         TAG:token {'POS': 'JJ', 'charOffset': '44-59', 'headScore': '1', 'id': 'bt_10', 'text': 'transcriptional'} TEXT: \n",
      "      11         TAG:token {'POS': 'NN', 'charOffset': '60-65', 'headScore': '1', 'id': 'bt_11', 'text': 'start'} TEXT: \n",
      "      12         TAG:token {'POS': 'NN', 'charOffset': '66-70', 'headScore': '2', 'id': 'bt_12', 'text': 'site'} TEXT: \n",
      "      13         TAG:token {'POS': ',', 'charOffset': '70-71', 'headScore': '1', 'id': 'bt_13', 'text': ','} TEXT: \n",
      "      14         TAG:token {'POS': 'TO', 'charOffset': '72-74', 'headScore': '1', 'id': 'bt_14', 'text': 'to'} TEXT: \n",
      "      15         TAG:token {'POS': 'VB', 'charOffset': '75-78', 'headScore': '1', 'id': 'bt_15', 'text': 'act'} TEXT: \n",
      "      16         TAG:token {'POS': 'IN', 'charOffset': '79-81', 'headScore': '0', 'id': 'bt_16', 'text': 'as'} TEXT: \n",
      "      17         TAG:token {'POS': 'DT', 'charOffset': '82-83', 'headScore': '1', 'id': 'bt_17', 'text': 'a'} TEXT: \n",
      "      18         TAG:token {'POS': 'NN', 'charOffset': '84-93', 'headScore': '2', 'id': 'bt_18', 'text': 'repressor'} TEXT: \n",
      "      19         TAG:token {'POS': '.', 'charOffset': '93-94', 'headScore': '1', 'id': 'bt_19', 'text': '.'} TEXT: \n",
      "    3       TAG:parse {'ProteinNameSplitter': 'True', 'parser': 'McCC', 'pennstring': '(S1 (S (S (ADVP (RB Here)) (, ,) (NP (PRP we)) (VP (VBP show) (SBAR (IN that) (S (NP (NN GerE)) (VP (VBZ binds) (PP (IN near) (NP (DT the) (NN sigK) (JJ transcriptional) (NN start) (NN site))) (, ,) (S (VP (TO to) (VP (VB act) (PP (IN as) (NP (DT a) (NN repressor))))))))))) (. .)))', 'source': \"BioNLP'11\", 'stanford': 'ok', 'tokenizer': 'McCC'} TEXT: \n",
      "      children: 35\n",
      "      0         TAG:dependency {'id': 'sd_0', 't1': 'bt_3', 't2': 'bt_0', 'type': 'advmod'} TEXT: \n",
      "      1         TAG:dependency {'id': 'sd_1', 't1': 'bt_3', 't2': 'bt_1', 'type': 'punct'} TEXT: \n",
      "      2         TAG:dependency {'id': 'sd_2', 't1': 'bt_3', 't2': 'bt_2', 'type': 'nsubj'} TEXT: \n",
      "      3         TAG:dependency {'id': 'sd_3', 't1': 'bt_6', 't2': 'bt_4', 'type': 'complm'} TEXT: \n",
      "      4         TAG:dependency {'id': 'sd_4', 't1': 'bt_6', 't2': 'bt_5', 'type': 'nsubj'} TEXT: \n",
      "      5         TAG:dependency {'id': 'sd_5', 't1': 'bt_15', 't2': 'bt_5', 'type': 'xsubj'} TEXT: \n",
      "      6         TAG:dependency {'id': 'sd_6', 't1': 'bt_3', 't2': 'bt_6', 'type': 'ccomp'} TEXT: \n",
      "      7         TAG:dependency {'id': 'sd_7', 't1': 'bt_12', 't2': 'bt_8', 'type': 'det'} TEXT: \n",
      "      8         TAG:dependency {'id': 'sd_8', 't1': 'bt_12', 't2': 'bt_9', 'type': 'nn'} TEXT: \n",
      "      9         TAG:dependency {'id': 'sd_9', 't1': 'bt_12', 't2': 'bt_10', 'type': 'amod'} TEXT: \n",
      "      10         TAG:dependency {'id': 'sd_10', 't1': 'bt_12', 't2': 'bt_11', 'type': 'nn'} TEXT: \n",
      "      11         TAG:dependency {'id': 'sd_11', 't1': 'bt_6', 't2': 'bt_12', 'type': 'prep_near'} TEXT: \n",
      "      12         TAG:dependency {'id': 'sd_12', 't1': 'bt_6', 't2': 'bt_13', 'type': 'punct'} TEXT: \n",
      "      13         TAG:dependency {'id': 'sd_13', 't1': 'bt_15', 't2': 'bt_14', 'type': 'aux'} TEXT: \n",
      "      14         TAG:dependency {'id': 'sd_14', 't1': 'bt_6', 't2': 'bt_15', 'type': 'xcomp'} TEXT: \n",
      "      15         TAG:dependency {'id': 'sd_15', 't1': 'bt_18', 't2': 'bt_17', 'type': 'det'} TEXT: \n",
      "      16         TAG:dependency {'id': 'sd_16', 't1': 'bt_15', 't2': 'bt_18', 'type': 'prep_as'} TEXT: \n",
      "      17         TAG:dependency {'id': 'sd_17', 't1': 'bt_3', 't2': 'bt_19', 'type': 'punct'} TEXT: \n",
      "      18         TAG:phrase {'begin': '0', 'charOffset': '0-4', 'end': '0', 'id': 'bp_0', 'type': 'ADVP'} TEXT: \n",
      "      19         TAG:phrase {'begin': '0', 'charOffset': '0-93', 'end': '18', 'id': 'bp_1', 'type': 'S'} TEXT: \n",
      "      20         TAG:phrase {'begin': '0', 'charOffset': '0-94', 'end': '19', 'id': 'bp_2', 'type': 'S'} TEXT: \n",
      "      21         TAG:phrase {'begin': '0', 'charOffset': '0-94', 'end': '19', 'id': 'bp_3', 'type': 'S1'} TEXT: \n",
      "      22         TAG:phrase {'begin': '2', 'charOffset': '6-8', 'end': '2', 'id': 'bp_4', 'type': 'NP'} TEXT: \n",
      "      23         TAG:phrase {'begin': '3', 'charOffset': '9-93', 'end': '18', 'id': 'bp_5', 'type': 'VP'} TEXT: \n",
      "      24         TAG:phrase {'begin': '4', 'charOffset': '14-93', 'end': '18', 'id': 'bp_6', 'type': 'SBAR'} TEXT: \n",
      "      25         TAG:phrase {'begin': '5', 'charOffset': '19-23', 'end': '5', 'id': 'bp_7', 'type': 'NP'} TEXT: \n",
      "      26         TAG:phrase {'begin': '5', 'charOffset': '19-93', 'end': '18', 'id': 'bp_8', 'type': 'S'} TEXT: \n",
      "      27         TAG:phrase {'begin': '6', 'charOffset': '24-93', 'end': '18', 'id': 'bp_9', 'type': 'VP'} TEXT: \n",
      "      28         TAG:phrase {'begin': '7', 'charOffset': '30-70', 'end': '12', 'id': 'bp_10', 'type': 'PP'} TEXT: \n",
      "      29         TAG:phrase {'begin': '8', 'charOffset': '35-70', 'end': '12', 'id': 'bp_11', 'type': 'NP'} TEXT: \n",
      "      30         TAG:phrase {'begin': '14', 'charOffset': '72-93', 'end': '18', 'id': 'bp_12', 'type': 'S'} TEXT: \n",
      "      31         TAG:phrase {'begin': '14', 'charOffset': '72-93', 'end': '18', 'id': 'bp_13', 'type': 'VP'} TEXT: \n",
      "      32         TAG:phrase {'begin': '15', 'charOffset': '75-93', 'end': '18', 'id': 'bp_14', 'type': 'VP'} TEXT: \n",
      "      33         TAG:phrase {'begin': '16', 'charOffset': '79-93', 'end': '18', 'id': 'bp_15', 'type': 'PP'} TEXT: \n",
      "      34         TAG:phrase {'begin': '17', 'charOffset': '82-93', 'end': '18', 'id': 'bp_16', 'type': 'NP'} TEXT: \n"
     ]
    }
   ],
   "source": [
    "# root = ET.parse('/storage/arkareem/projects/biology/git_repos/TEES/.tees/corpora/DDI11-train.xml').getroot()\n",
    "print_ele(root[0], children=True)"
   ]
  },
  {
   "cell_type": "code",
   "execution_count": null,
   "metadata": {},
   "outputs": [],
   "source": [
    "def print_ele(ele, children=False, indent=0):\n",
    "    print(' '*indent + 'TAG:' + ele.tag, ele.attrib, 'TEXT:', ele.text.strip() if ele.text else '')\n",
    "    if children and len(list(ele)) > 0:\n",
    "        print(' '*indent + 'children:', len(list(ele)))\n",
    "        for i, c in enumerate(ele):\n",
    "            print(' '*indent + str(i), end=' ')\n",
    "            print_ele(c, children=children, indent=indent+2)\n",
    "# print_ele(sents[2], children=True)\n",
    "\n",
    "# print_ele(s[0], children=True)\n",
    "# sents[2][18][0].findall('token')\n"
   ]
  },
  {
   "attachments": {},
   "cell_type": "markdown",
   "metadata": {},
   "source": [
    "# End"
   ]
  }
 ],
 "metadata": {
  "kernelspec": {
   "display_name": "Python 3 (ipykernel)",
   "language": "python",
   "name": "python3"
  },
  "language_info": {
   "codemirror_mode": {
    "name": "ipython",
    "version": 3
   },
   "file_extension": ".py",
   "mimetype": "text/x-python",
   "name": "python",
   "nbconvert_exporter": "python",
   "pygments_lexer": "ipython3",
   "version": "3.9.16"
  },
  "orig_nbformat": 4
 },
 "nbformat": 4,
 "nbformat_minor": 2
}
