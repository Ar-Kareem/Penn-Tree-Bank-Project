{
 "cells": [
  {
   "cell_type": "code",
   "execution_count": null,
   "metadata": {},
   "outputs": [],
   "source": [
    "! pip install nltk"
   ]
  },
  {
   "cell_type": "code",
   "execution_count": 3,
   "metadata": {},
   "outputs": [
    {
     "name": "stdout",
     "output_type": "stream",
     "text": [
      "Collecting scikit-learn\n",
      "  Downloading scikit_learn-1.2.2-cp310-cp310-macosx_10_9_x86_64.whl (9.1 MB)\n",
      "\u001b[2K     \u001b[90m━━━━━━━━━━━━━━━━━━━━━━━━━━━━━━━━━━━━━━━━\u001b[0m \u001b[32m9.1/9.1 MB\u001b[0m \u001b[31m8.4 MB/s\u001b[0m eta \u001b[36m0:00:00\u001b[0m00:01\u001b[0m00:01\u001b[0mm\n",
      "\u001b[?25hCollecting threadpoolctl>=2.0.0\n",
      "  Using cached threadpoolctl-3.1.0-py3-none-any.whl (14 kB)\n",
      "Collecting numpy>=1.17.3\n",
      "  Downloading numpy-1.24.3-cp310-cp310-macosx_10_9_x86_64.whl (19.8 MB)\n",
      "\u001b[2K     \u001b[90m━━━━━━━━━━━━━━━━━━━━━━━━━━━━━━━━━━━━━━━━\u001b[0m \u001b[32m19.8/19.8 MB\u001b[0m \u001b[31m2.6 MB/s\u001b[0m eta \u001b[36m0:00:00\u001b[0m00:01\u001b[0m00:01\u001b[0mm\n",
      "\u001b[?25hRequirement already satisfied: joblib>=1.1.1 in /Users/edvardronglan/miniconda3/lib/python3.10/site-packages (from scikit-learn) (1.2.0)\n",
      "Collecting scipy>=1.3.2\n",
      "  Using cached scipy-1.10.1-cp310-cp310-macosx_10_9_x86_64.whl (35.1 MB)\n",
      "Installing collected packages: threadpoolctl, numpy, scipy, scikit-learn\n",
      "Successfully installed numpy-1.24.3 scikit-learn-1.2.2 scipy-1.10.1 threadpoolctl-3.1.0\n"
     ]
    }
   ],
   "source": [
    "! pip install -U scikit-learn\n"
   ]
  },
  {
   "cell_type": "code",
   "execution_count": 32,
   "metadata": {},
   "outputs": [],
   "source": [
    "import nltk\n",
    "import os\n",
    "new_path = '/Users/edvardronglan/OneDrive - Massachusetts Institute of Technology/MIT/2023_spring/nlp/project/Penn-Tree-Bank-Project/nltk_data'\n",
    "nltk.data.path.append(os.path.abspath(new_path))\n",
    "from nltk.corpus import treebank\n",
    "from sklearn.model_selection import train_test_split\n",
    "from nltk.parse import RecursiveDescentParser\n",
    "from nltk.tokenize import word_tokenize"
   ]
  },
  {
   "cell_type": "code",
   "execution_count": 34,
   "metadata": {},
   "outputs": [
    {
     "ename": "LookupError",
     "evalue": "\n**********************************************************************\n  Resource \u001b[93mpunkt\u001b[0m not found.\n  Please use the NLTK Downloader to obtain the resource:\n\n  \u001b[31m>>> import nltk\n  >>> nltk.download('punkt')\n  \u001b[0m\n  For more information see: https://www.nltk.org/data.html\n\n  Attempted to load \u001b[93mtokenizers/punkt/PY3/english.pickle\u001b[0m\n\n  Searched in:\n    - '/Users/edvardronglan/nltk_data'\n    - '/Users/edvardronglan/miniconda3/nltk_data'\n    - '/Users/edvardronglan/miniconda3/share/nltk_data'\n    - '/Users/edvardronglan/miniconda3/lib/nltk_data'\n    - '/usr/share/nltk_data'\n    - '/usr/local/share/nltk_data'\n    - '/usr/lib/nltk_data'\n    - '/usr/local/lib/nltk_data'\n    - '/Users/edvardronglan/OneDrive - Massachusetts Institute of Technology/MIT/2023_spring/nlp/project/Penn-Tree-Bank-Project/nltk_data'\n    - '/Users/edvardronglan/OneDrive - Massachusetts Institute of Technology/MIT/2023_spring/nlp/project/Penn-Tree-Bank-Project/nltk_data'\n    - '/Users/edvardronglan/OneDrive - Massachusetts Institute of Technology/MIT/2023_spring/nlp/project/Penn-Tree-Bank-Project/nltk_data'\n    - '/Users/edvardronglan/OneDrive - Massachusetts Institute of Technology/MIT/2023_spring/nlp/project/Penn-Tree-Bank-Project/nltk_data'\n    - '/Users/edvardronglan/OneDrive - Massachusetts Institute of Technology/MIT/2023_spring/nlp/project/Penn-Tree-Bank-Project/nltk_data'\n    - '/Users/edvardronglan/OneDrive - Massachusetts Institute of Technology/MIT/2023_spring/nlp/project/Penn-Tree-Bank-Project/nltk_data'\n    - '/Users/edvardronglan/OneDrive - Massachusetts Institute of Technology/MIT/2023_spring/nlp/project/Penn-Tree-Bank-Project/nltk_data'\n    - '/Users/edvardronglan/OneDrive - Massachusetts Institute of Technology/MIT/2023_spring/nlp/project/Penn-Tree-Bank-Project/nltk_data'\n    - '/Users/edvardronglan/OneDrive - Massachusetts Institute of Technology/MIT/2023_spring/nlp/project/Penn-Tree-Bank-Project/nltk_data'\n    - '/Users/edvardronglan/OneDrive - Massachusetts Institute of Technology/MIT/2023_spring/nlp/project/Penn-Tree-Bank-Project/nltk_data'\n    - '/Users/edvardronglan/OneDrive - Massachusetts Institute of Technology/MIT/2023_spring/nlp/project/Penn-Tree-Bank-Project/nltk_data'\n    - '/Users/edvardronglan/OneDrive - Massachusetts Institute of Technology/MIT/2023_spring/nlp/project/Penn-Tree-Bank-Project/nltk_data'\n    - '/Users/edvardronglan/OneDrive - Massachusetts Institute of Technology/MIT/2023_spring/nlp/project/Penn-Tree-Bank-Project/nltk_data'\n    - '/Users/edvardronglan/OneDrive - Massachusetts Institute of Technology/MIT/2023_spring/nlp/project/Penn-Tree-Bank-Project/nltk_data'\n    - '/Users/edvardronglan/Library/CloudStorage/OneDrive-MassachusettsInstituteofTechnology/MIT/2023_spring/nlp/project/Penn-Tree-Bank-Project/nltk_data'\n    - '/Users/edvardronglan/Library/CloudStorage/OneDrive-MassachusettsInstituteofTechnology/MIT/2023_spring/nlp/project/Penn-Tree-Bank-Project/nltk_data'\n    - '/Users/edvardronglan/Library/CloudStorage/OneDrive-MassachusettsInstituteofTechnology/MIT/2023_spring/nlp/project/Penn-Tree-Bank-Project/nltk_data'\n    - '/Users/edvardronglan/Library/CloudStorage/OneDrive-MassachusettsInstituteofTechnology/MIT/2023_spring/nlp/project/Penn-Tree-Bank-Project/nltk_data'\n    - '/Users/edvardronglan/Library/CloudStorage/OneDrive-MassachusettsInstituteofTechnology/MIT/2023_spring/nlp/project/Penn-Tree-Bank-Project/nltk_data'\n    - '/Users/edvardronglan/Library/CloudStorage/OneDrive-MassachusettsInstituteofTechnology/MIT/2023_spring/nlp/project/Penn-Tree-Bank-Project/nltk_data'\n    - '/Users/edvardronglan/Library/CloudStorage/OneDrive-MassachusettsInstituteofTechnology/MIT/2023_spring/nlp/project/Penn-Tree-Bank-Project/nltk_data'\n    - '/Users/edvardronglan/Library/CloudStorage/OneDrive-MassachusettsInstituteofTechnology/MIT/2023_spring/nlp/project/Penn-Tree-Bank-Project/nltk_data'\n    - '/Users/edvardronglan/Library/CloudStorage/OneDrive-MassachusettsInstituteofTechnology/MIT/2023_spring/nlp/project/Penn-Tree-Bank-Project/nltk_data'\n    - '/Users/edvardronglan/Library/CloudStorage/OneDrive-MassachusettsInstituteofTechnology/MIT/2023_spring/nlp/project/Penn-Tree-Bank-Project/nltk_data'\n    - '/Users/edvardronglan/OneDrive - Massachusetts Institute of Technology/MIT/2023_spring/nlp/project/Penn-Tree-Bank-Project/nltk_data'\n    - '/Users/edvardronglan/Library/CloudStorage/OneDrive-MassachusettsInstituteofTechnology/MIT/2023_spring/nlp/project/Penn-Tree-Bank-Project/nltk_data'\n    - '/Users/edvardronglan/OneDrive - Massachusetts Institute of Technology/MIT/2023_spring/nlp/project/Penn-Tree-Bank-Project/nltk_data'\n    - '/Users/edvardronglan/Library/CloudStorage/OneDrive-MassachusettsInstituteofTechnology/MIT/2023_spring/nlp/project/Penn-Tree-Bank-Project/nltk_data'\n    - '/Users/edvardronglan/Library/CloudStorage/OneDrive-MassachusettsInstituteofTechnology/MIT/2023_spring/nlp/project/Penn-Tree-Bank-Project/nltk_data'\n    - '/Users/edvardronglan/OneDrive - Massachusetts Institute of Technology/MIT/2023_spring/nlp/project/Penn-Tree-Bank-Project/nltk_data'\n    - ''\n**********************************************************************\n",
     "output_type": "error",
     "traceback": [
      "\u001b[0;31m---------------------------------------------------------------------------\u001b[0m",
      "\u001b[0;31mLookupError\u001b[0m                               Traceback (most recent call last)",
      "Cell \u001b[0;32mIn[34], line 4\u001b[0m\n\u001b[1;32m      1\u001b[0m sentences \u001b[38;5;241m=\u001b[39m treebank\u001b[38;5;241m.\u001b[39msents()\n\u001b[1;32m      2\u001b[0m tagged_sentences \u001b[38;5;241m=\u001b[39m treebank\u001b[38;5;241m.\u001b[39mtagged_sents()\n\u001b[0;32m----> 4\u001b[0m \u001b[38;5;28mprint\u001b[39m(\u001b[43mword_tokenize\u001b[49m\u001b[43m(\u001b[49m\u001b[38;5;124;43m\"\u001b[39;49m\u001b[38;5;124;43mJohn\u001b[39;49m\u001b[38;5;124;43m'\u001b[39;49m\u001b[38;5;124;43ms big idea isn\u001b[39;49m\u001b[38;5;124;43m'\u001b[39;49m\u001b[38;5;124;43mt all that bad.\u001b[39;49m\u001b[38;5;124;43m\"\u001b[39;49m\u001b[38;5;241;43m.\u001b[39;49m\u001b[43msplit\u001b[49m\u001b[43m(\u001b[49m\u001b[43m)\u001b[49m\u001b[43m)\u001b[49m)\n\u001b[1;32m      6\u001b[0m \u001b[38;5;28;01mfor\u001b[39;00m sentence \u001b[38;5;129;01min\u001b[39;00m sentences:\n\u001b[1;32m      7\u001b[0m     \u001b[38;5;28mprint\u001b[39m(\u001b[38;5;124m'\u001b[39m\u001b[38;5;124m \u001b[39m\u001b[38;5;124m'\u001b[39m\u001b[38;5;241m.\u001b[39mjoin(sentence))\n",
      "File \u001b[0;32m~/miniconda3/lib/python3.10/site-packages/nltk/tokenize/__init__.py:129\u001b[0m, in \u001b[0;36mword_tokenize\u001b[0;34m(text, language, preserve_line)\u001b[0m\n\u001b[1;32m    114\u001b[0m \u001b[39mdef\u001b[39;00m \u001b[39mword_tokenize\u001b[39m(text, language\u001b[39m=\u001b[39m\u001b[39m\"\u001b[39m\u001b[39menglish\u001b[39m\u001b[39m\"\u001b[39m, preserve_line\u001b[39m=\u001b[39m\u001b[39mFalse\u001b[39;00m):\n\u001b[1;32m    115\u001b[0m     \u001b[39m\"\"\"\u001b[39;00m\n\u001b[1;32m    116\u001b[0m \u001b[39m    Return a tokenized copy of *text*,\u001b[39;00m\n\u001b[1;32m    117\u001b[0m \u001b[39m    using NLTK's recommended word tokenizer\u001b[39;00m\n\u001b[0;32m   (...)\u001b[0m\n\u001b[1;32m    127\u001b[0m \u001b[39m    :type preserve_line: bool\u001b[39;00m\n\u001b[1;32m    128\u001b[0m \u001b[39m    \"\"\"\u001b[39;00m\n\u001b[0;32m--> 129\u001b[0m     sentences \u001b[39m=\u001b[39m [text] \u001b[39mif\u001b[39;00m preserve_line \u001b[39melse\u001b[39;00m sent_tokenize(text, language)\n\u001b[1;32m    130\u001b[0m     \u001b[39mreturn\u001b[39;00m [\n\u001b[1;32m    131\u001b[0m         token \u001b[39mfor\u001b[39;00m sent \u001b[39min\u001b[39;00m sentences \u001b[39mfor\u001b[39;00m token \u001b[39min\u001b[39;00m _treebank_word_tokenizer\u001b[39m.\u001b[39mtokenize(sent)\n\u001b[1;32m    132\u001b[0m     ]\n",
      "File \u001b[0;32m~/miniconda3/lib/python3.10/site-packages/nltk/tokenize/__init__.py:106\u001b[0m, in \u001b[0;36msent_tokenize\u001b[0;34m(text, language)\u001b[0m\n\u001b[1;32m     96\u001b[0m \u001b[39mdef\u001b[39;00m \u001b[39msent_tokenize\u001b[39m(text, language\u001b[39m=\u001b[39m\u001b[39m\"\u001b[39m\u001b[39menglish\u001b[39m\u001b[39m\"\u001b[39m):\n\u001b[1;32m     97\u001b[0m     \u001b[39m\"\"\"\u001b[39;00m\n\u001b[1;32m     98\u001b[0m \u001b[39m    Return a sentence-tokenized copy of *text*,\u001b[39;00m\n\u001b[1;32m     99\u001b[0m \u001b[39m    using NLTK's recommended sentence tokenizer\u001b[39;00m\n\u001b[0;32m   (...)\u001b[0m\n\u001b[1;32m    104\u001b[0m \u001b[39m    :param language: the model name in the Punkt corpus\u001b[39;00m\n\u001b[1;32m    105\u001b[0m \u001b[39m    \"\"\"\u001b[39;00m\n\u001b[0;32m--> 106\u001b[0m     tokenizer \u001b[39m=\u001b[39m load(\u001b[39mf\u001b[39;49m\u001b[39m\"\u001b[39;49m\u001b[39mtokenizers/punkt/\u001b[39;49m\u001b[39m{\u001b[39;49;00mlanguage\u001b[39m}\u001b[39;49;00m\u001b[39m.pickle\u001b[39;49m\u001b[39m\"\u001b[39;49m)\n\u001b[1;32m    107\u001b[0m     \u001b[39mreturn\u001b[39;00m tokenizer\u001b[39m.\u001b[39mtokenize(text)\n",
      "File \u001b[0;32m~/miniconda3/lib/python3.10/site-packages/nltk/data.py:750\u001b[0m, in \u001b[0;36mload\u001b[0;34m(resource_url, format, cache, verbose, logic_parser, fstruct_reader, encoding)\u001b[0m\n\u001b[1;32m    747\u001b[0m     \u001b[39mprint\u001b[39m(\u001b[39mf\u001b[39m\u001b[39m\"\u001b[39m\u001b[39m<<Loading \u001b[39m\u001b[39m{\u001b[39;00mresource_url\u001b[39m}\u001b[39;00m\u001b[39m>>\u001b[39m\u001b[39m\"\u001b[39m)\n\u001b[1;32m    749\u001b[0m \u001b[39m# Load the resource.\u001b[39;00m\n\u001b[0;32m--> 750\u001b[0m opened_resource \u001b[39m=\u001b[39m _open(resource_url)\n\u001b[1;32m    752\u001b[0m \u001b[39mif\u001b[39;00m \u001b[39mformat\u001b[39m \u001b[39m==\u001b[39m \u001b[39m\"\u001b[39m\u001b[39mraw\u001b[39m\u001b[39m\"\u001b[39m:\n\u001b[1;32m    753\u001b[0m     resource_val \u001b[39m=\u001b[39m opened_resource\u001b[39m.\u001b[39mread()\n",
      "File \u001b[0;32m~/miniconda3/lib/python3.10/site-packages/nltk/data.py:876\u001b[0m, in \u001b[0;36m_open\u001b[0;34m(resource_url)\u001b[0m\n\u001b[1;32m    873\u001b[0m protocol, path_ \u001b[39m=\u001b[39m split_resource_url(resource_url)\n\u001b[1;32m    875\u001b[0m \u001b[39mif\u001b[39;00m protocol \u001b[39mis\u001b[39;00m \u001b[39mNone\u001b[39;00m \u001b[39mor\u001b[39;00m protocol\u001b[39m.\u001b[39mlower() \u001b[39m==\u001b[39m \u001b[39m\"\u001b[39m\u001b[39mnltk\u001b[39m\u001b[39m\"\u001b[39m:\n\u001b[0;32m--> 876\u001b[0m     \u001b[39mreturn\u001b[39;00m find(path_, path \u001b[39m+\u001b[39;49m [\u001b[39m\"\u001b[39;49m\u001b[39m\"\u001b[39;49m])\u001b[39m.\u001b[39mopen()\n\u001b[1;32m    877\u001b[0m \u001b[39melif\u001b[39;00m protocol\u001b[39m.\u001b[39mlower() \u001b[39m==\u001b[39m \u001b[39m\"\u001b[39m\u001b[39mfile\u001b[39m\u001b[39m\"\u001b[39m:\n\u001b[1;32m    878\u001b[0m     \u001b[39m# urllib might not use mode='rb', so handle this one ourselves:\u001b[39;00m\n\u001b[1;32m    879\u001b[0m     \u001b[39mreturn\u001b[39;00m find(path_, [\u001b[39m\"\u001b[39m\u001b[39m\"\u001b[39m])\u001b[39m.\u001b[39mopen()\n",
      "File \u001b[0;32m~/miniconda3/lib/python3.10/site-packages/nltk/data.py:583\u001b[0m, in \u001b[0;36mfind\u001b[0;34m(resource_name, paths)\u001b[0m\n\u001b[1;32m    581\u001b[0m sep \u001b[39m=\u001b[39m \u001b[39m\"\u001b[39m\u001b[39m*\u001b[39m\u001b[39m\"\u001b[39m \u001b[39m*\u001b[39m \u001b[39m70\u001b[39m\n\u001b[1;32m    582\u001b[0m resource_not_found \u001b[39m=\u001b[39m \u001b[39mf\u001b[39m\u001b[39m\"\u001b[39m\u001b[39m\\n\u001b[39;00m\u001b[39m{\u001b[39;00msep\u001b[39m}\u001b[39;00m\u001b[39m\\n\u001b[39;00m\u001b[39m{\u001b[39;00mmsg\u001b[39m}\u001b[39;00m\u001b[39m\\n\u001b[39;00m\u001b[39m{\u001b[39;00msep\u001b[39m}\u001b[39;00m\u001b[39m\\n\u001b[39;00m\u001b[39m\"\u001b[39m\n\u001b[0;32m--> 583\u001b[0m \u001b[39mraise\u001b[39;00m \u001b[39mLookupError\u001b[39;00m(resource_not_found)\n",
      "\u001b[0;31mLookupError\u001b[0m: \n**********************************************************************\n  Resource \u001b[93mpunkt\u001b[0m not found.\n  Please use the NLTK Downloader to obtain the resource:\n\n  \u001b[31m>>> import nltk\n  >>> nltk.download('punkt')\n  \u001b[0m\n  For more information see: https://www.nltk.org/data.html\n\n  Attempted to load \u001b[93mtokenizers/punkt/PY3/english.pickle\u001b[0m\n\n  Searched in:\n    - '/Users/edvardronglan/nltk_data'\n    - '/Users/edvardronglan/miniconda3/nltk_data'\n    - '/Users/edvardronglan/miniconda3/share/nltk_data'\n    - '/Users/edvardronglan/miniconda3/lib/nltk_data'\n    - '/usr/share/nltk_data'\n    - '/usr/local/share/nltk_data'\n    - '/usr/lib/nltk_data'\n    - '/usr/local/lib/nltk_data'\n    - '/Users/edvardronglan/OneDrive - Massachusetts Institute of Technology/MIT/2023_spring/nlp/project/Penn-Tree-Bank-Project/nltk_data'\n    - '/Users/edvardronglan/OneDrive - Massachusetts Institute of Technology/MIT/2023_spring/nlp/project/Penn-Tree-Bank-Project/nltk_data'\n    - '/Users/edvardronglan/OneDrive - Massachusetts Institute of Technology/MIT/2023_spring/nlp/project/Penn-Tree-Bank-Project/nltk_data'\n    - '/Users/edvardronglan/OneDrive - Massachusetts Institute of Technology/MIT/2023_spring/nlp/project/Penn-Tree-Bank-Project/nltk_data'\n    - '/Users/edvardronglan/OneDrive - Massachusetts Institute of Technology/MIT/2023_spring/nlp/project/Penn-Tree-Bank-Project/nltk_data'\n    - '/Users/edvardronglan/OneDrive - Massachusetts Institute of Technology/MIT/2023_spring/nlp/project/Penn-Tree-Bank-Project/nltk_data'\n    - '/Users/edvardronglan/OneDrive - Massachusetts Institute of Technology/MIT/2023_spring/nlp/project/Penn-Tree-Bank-Project/nltk_data'\n    - '/Users/edvardronglan/OneDrive - Massachusetts Institute of Technology/MIT/2023_spring/nlp/project/Penn-Tree-Bank-Project/nltk_data'\n    - '/Users/edvardronglan/OneDrive - Massachusetts Institute of Technology/MIT/2023_spring/nlp/project/Penn-Tree-Bank-Project/nltk_data'\n    - '/Users/edvardronglan/OneDrive - Massachusetts Institute of Technology/MIT/2023_spring/nlp/project/Penn-Tree-Bank-Project/nltk_data'\n    - '/Users/edvardronglan/OneDrive - Massachusetts Institute of Technology/MIT/2023_spring/nlp/project/Penn-Tree-Bank-Project/nltk_data'\n    - '/Users/edvardronglan/OneDrive - Massachusetts Institute of Technology/MIT/2023_spring/nlp/project/Penn-Tree-Bank-Project/nltk_data'\n    - '/Users/edvardronglan/OneDrive - Massachusetts Institute of Technology/MIT/2023_spring/nlp/project/Penn-Tree-Bank-Project/nltk_data'\n    - '/Users/edvardronglan/OneDrive - Massachusetts Institute of Technology/MIT/2023_spring/nlp/project/Penn-Tree-Bank-Project/nltk_data'\n    - '/Users/edvardronglan/Library/CloudStorage/OneDrive-MassachusettsInstituteofTechnology/MIT/2023_spring/nlp/project/Penn-Tree-Bank-Project/nltk_data'\n    - '/Users/edvardronglan/Library/CloudStorage/OneDrive-MassachusettsInstituteofTechnology/MIT/2023_spring/nlp/project/Penn-Tree-Bank-Project/nltk_data'\n    - '/Users/edvardronglan/Library/CloudStorage/OneDrive-MassachusettsInstituteofTechnology/MIT/2023_spring/nlp/project/Penn-Tree-Bank-Project/nltk_data'\n    - '/Users/edvardronglan/Library/CloudStorage/OneDrive-MassachusettsInstituteofTechnology/MIT/2023_spring/nlp/project/Penn-Tree-Bank-Project/nltk_data'\n    - '/Users/edvardronglan/Library/CloudStorage/OneDrive-MassachusettsInstituteofTechnology/MIT/2023_spring/nlp/project/Penn-Tree-Bank-Project/nltk_data'\n    - '/Users/edvardronglan/Library/CloudStorage/OneDrive-MassachusettsInstituteofTechnology/MIT/2023_spring/nlp/project/Penn-Tree-Bank-Project/nltk_data'\n    - '/Users/edvardronglan/Library/CloudStorage/OneDrive-MassachusettsInstituteofTechnology/MIT/2023_spring/nlp/project/Penn-Tree-Bank-Project/nltk_data'\n    - '/Users/edvardronglan/Library/CloudStorage/OneDrive-MassachusettsInstituteofTechnology/MIT/2023_spring/nlp/project/Penn-Tree-Bank-Project/nltk_data'\n    - '/Users/edvardronglan/Library/CloudStorage/OneDrive-MassachusettsInstituteofTechnology/MIT/2023_spring/nlp/project/Penn-Tree-Bank-Project/nltk_data'\n    - '/Users/edvardronglan/Library/CloudStorage/OneDrive-MassachusettsInstituteofTechnology/MIT/2023_spring/nlp/project/Penn-Tree-Bank-Project/nltk_data'\n    - '/Users/edvardronglan/OneDrive - Massachusetts Institute of Technology/MIT/2023_spring/nlp/project/Penn-Tree-Bank-Project/nltk_data'\n    - '/Users/edvardronglan/Library/CloudStorage/OneDrive-MassachusettsInstituteofTechnology/MIT/2023_spring/nlp/project/Penn-Tree-Bank-Project/nltk_data'\n    - '/Users/edvardronglan/OneDrive - Massachusetts Institute of Technology/MIT/2023_spring/nlp/project/Penn-Tree-Bank-Project/nltk_data'\n    - '/Users/edvardronglan/Library/CloudStorage/OneDrive-MassachusettsInstituteofTechnology/MIT/2023_spring/nlp/project/Penn-Tree-Bank-Project/nltk_data'\n    - '/Users/edvardronglan/Library/CloudStorage/OneDrive-MassachusettsInstituteofTechnology/MIT/2023_spring/nlp/project/Penn-Tree-Bank-Project/nltk_data'\n    - '/Users/edvardronglan/OneDrive - Massachusetts Institute of Technology/MIT/2023_spring/nlp/project/Penn-Tree-Bank-Project/nltk_data'\n    - ''\n**********************************************************************\n"
     ]
    }
   ],
   "source": [
    "\n",
    "sentences = treebank.sents()\n",
    "tagged_sentences = treebank.tagged_sents()\n",
    "\n",
    "\n",
    "\n",
    "\n",
    "\n"
   ]
  },
  {
   "cell_type": "code",
   "execution_count": 20,
   "metadata": {},
   "outputs": [],
   "source": [
    "# sentences[10], tagged_sentences[10]\n",
    "# train test split\n",
    "from sklearn.model_selection import train_test_split\n",
    "train_sentences, test_sentences, train_tags, test_tags = train_test_split(sentences, tagged_sentences, test_size=0.2, random_state=42)\n"
   ]
  },
  {
   "cell_type": "code",
   "execution_count": 22,
   "metadata": {},
   "outputs": [
    {
     "data": {
      "text/plain": [
       "783"
      ]
     },
     "execution_count": 22,
     "metadata": {},
     "output_type": "execute_result"
    }
   ],
   "source": [
    "len(test_sentences)"
   ]
  }
 ],
 "metadata": {
  "kernelspec": {
   "display_name": "Python 3 (ipykernel)",
   "language": "python",
   "name": "python3"
  },
  "language_info": {
   "codemirror_mode": {
    "name": "ipython",
    "version": 3
   },
   "file_extension": ".py",
   "mimetype": "text/x-python",
   "name": "python",
   "nbconvert_exporter": "python",
   "pygments_lexer": "ipython3",
   "version": "3.10.9"
  },
  "orig_nbformat": 4,
  "vscode": {
   "interpreter": {
    "hash": "568f12863671dec1c00368c6fa998a07d47291b4ae37cbf813d8026dcd9bdb1c"
   }
  }
 },
 "nbformat": 4,
 "nbformat_minor": 2
}
